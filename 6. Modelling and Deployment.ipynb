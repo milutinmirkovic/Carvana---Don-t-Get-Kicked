{
 "cells": [
  {
   "cell_type": "code",
   "execution_count": 74,
   "id": "4d2ec2b6",
   "metadata": {},
   "outputs": [],
   "source": [
    "import pandas as pd\n",
    "from matplotlib import pyplot as plt\n",
    "import numpy as np\n",
    "import seaborn as sns\n"
   ]
  },
  {
   "cell_type": "code",
   "execution_count": 75,
   "id": "e24f5912",
   "metadata": {},
   "outputs": [],
   "source": [
    "train = pd.read_csv('train_final.csv')\n",
    "test = pd.read_csv('test_final.csv')\n",
    "valid = pd.read_csv('valid_final.csv')"
   ]
  },
  {
   "cell_type": "markdown",
   "id": "44a73b07",
   "metadata": {},
   "source": [
    "# Logistička regresija\n",
    "\n",
    "1. Odluka je kako tretiramo klastere\n",
    "\n",
    "- Bez klastera \n",
    "- Klaster kao atribut\n",
    "- Model za svaki klaster\n",
    "\n",
    "2. Koji atributi\n",
    "- sa svim atributima\n",
    "- polinomijani atributi\n",
    "- feature selection\n",
    "------------------------\n",
    " Na trainu koristimo kros validaciju.\n",
    " \n"
   ]
  },
  {
   "cell_type": "markdown",
   "id": "a8821d62",
   "metadata": {},
   "source": [
    "ovde smo probali da ne koristimo klaster kao atribut"
   ]
  },
  {
   "cell_type": "code",
   "execution_count": 77,
   "id": "ff6a00ac",
   "metadata": {},
   "outputs": [
    {
     "name": "stdout",
     "output_type": "stream",
     "text": [
      "Precision: 0.6511\n",
      "Recall: 0.0030\n",
      "Accuracy: 0.8769\n",
      "AUC: 0.5014\n"
     ]
    }
   ],
   "source": [
    "from sklearn.linear_model import LogisticRegression\n",
    "from sklearn.model_selection import cross_val_score, cross_validate\n",
    "from sklearn.metrics import precision_score, recall_score, accuracy_score, roc_auc_score, make_scorer\n",
    "from sklearn.model_selection import StratifiedKFold\n",
    "\n",
    "\n",
    "model = LogisticRegression(solver='liblinear') \n",
    "\n",
    "\n",
    "scoring = {\n",
    "    'precision': make_scorer(precision_score),\n",
    "    'recall': make_scorer(recall_score),\n",
    "    'accuracy': make_scorer(accuracy_score),\n",
    "    'roc_auc': make_scorer(roc_auc_score)\n",
    "}\n",
    "\n",
    "\n",
    "cv = StratifiedKFold(n_splits=5)  \n",
    "\n",
    "\n",
    "results = cross_validate(model, train.drop(columns=['Cluster','IsBadBuy']), train['IsBadBuy'], cv=cv, scoring=scoring)\n",
    "\n",
    "\n",
    "print(f\"Precision: {results['test_precision'].mean():.4f}\")\n",
    "print(f\"Recall: {results['test_recall'].mean():.4f}\")\n",
    "print(f\"Accuracy: {results['test_accuracy'].mean():.4f}\")\n",
    "print(f\"AUC: {results['test_roc_auc'].mean():.4f}\")\n"
   ]
  },
  {
   "cell_type": "code",
   "execution_count": 78,
   "id": "5d319b45",
   "metadata": {},
   "outputs": [
    {
     "name": "stdout",
     "output_type": "stream",
     "text": [
      "Precision: 0.7000\n",
      "Recall: 0.0024\n",
      "Accuracy: 0.8769\n",
      "AUC: 0.5011\n"
     ]
    }
   ],
   "source": [
    "#koristimo klaster kao atribut\n",
    "\n",
    "model = LogisticRegression(solver='liblinear') \n",
    "\n",
    "\n",
    "scoring = {\n",
    "    'precision': make_scorer(precision_score),\n",
    "    'recall': make_scorer(recall_score),\n",
    "    'accuracy': make_scorer(accuracy_score),\n",
    "    'roc_auc': make_scorer(roc_auc_score)\n",
    "}\n",
    "\n",
    "\n",
    "cv = StratifiedKFold(n_splits=5)  \n",
    "\n",
    "\n",
    "results = cross_validate(model, train.drop(columns='IsBadBuy'), train['IsBadBuy'], cv=cv, scoring=scoring)\n",
    "\n",
    "# Prikaz metrika\n",
    "print(f\"Precision: {results['test_precision'].mean():.4f}\")\n",
    "print(f\"Recall: {results['test_recall'].mean():.4f}\")\n",
    "print(f\"Accuracy: {results['test_accuracy'].mean():.4f}\")\n",
    "print(f\"AUC: {results['test_roc_auc'].mean():.4f}\")\n"
   ]
  },
  {
   "cell_type": "code",
   "execution_count": 79,
   "id": "b2eb2ca6",
   "metadata": {},
   "outputs": [
    {
     "name": "stdout",
     "output_type": "stream",
     "text": [
      "                 Feature  Importance\n",
      "4            CostPerMile    0.130045\n",
      "6            CostPerYear    0.129028\n",
      "24            MMRAverage    0.128883\n",
      "5        WarrantyPerMile    0.126807\n",
      "7        VehOdo_Standard    0.126560\n",
      "2               VehBCost    0.119602\n",
      "3           WarrantyCost    0.064831\n",
      "0             VehicleAge    0.028815\n",
      "1                   Size    0.027412\n",
      "20  TrimCategory_Encoded    0.017832\n",
      "8          Adesa_Auction    0.014568\n",
      "25               Cluster    0.010110\n",
      "21                 Alloy    0.008318\n",
      "12             make_FORD    0.007951\n",
      "9         make_CHEVROLET    0.007566\n",
      "22                Covers    0.007319\n",
      "11            make_DODGE    0.007155\n",
      "19            make_other    0.007070\n",
      "10         make_CHRYSLER    0.006345\n",
      "23            isAmerican    0.005626\n",
      "17          make_PONTIAC    0.004327\n",
      "18           make_SATURN    0.003476\n",
      "15              make_KIA    0.003021\n",
      "16           make_NISSAN    0.002689\n",
      "13          make_HYUNDAI    0.002602\n",
      "14             make_JEEP    0.002042\n"
     ]
    }
   ],
   "source": [
    "from sklearn.ensemble import RandomForestClassifier\n",
    "\n",
    "X_train = train.drop(columns='IsBadBuy')\n",
    "y_train = train['IsBadBuy']\n",
    "\n",
    "# Kreirajte i trenirajte model Random Forest-a\n",
    "model = RandomForestClassifier(random_state=42)\n",
    "model.fit(X_train, y_train)\n",
    "\n",
    "# Dobijanje važnosti atributa\n",
    "importances = model.feature_importances_\n",
    "\n",
    "# Kreiranje DataFrame-a za lakšu analizu\n",
    "feature_importance_df = pd.DataFrame({\n",
    "    'Feature': X_train.columns,\n",
    "    'Importance': importances\n",
    "})\n",
    "\n",
    "# Sortiranje po važnosti\n",
    "feature_importance_df = feature_importance_df.sort_values(by='Importance', ascending=False)\n",
    "\n",
    "# Prikaz rezultata\n",
    "print(feature_importance_df)\n"
   ]
  },
  {
   "cell_type": "code",
   "execution_count": 9,
   "id": "20fc99fa",
   "metadata": {},
   "outputs": [
    {
     "name": "stdout",
     "output_type": "stream",
     "text": [
      "                 Feature  Importance   Std Dev\n",
      "2               VehBCost    0.142107  0.000921\n",
      "21            MMRAverage    0.123857  0.001140\n",
      "4        VehOdo_Standard    0.112566  0.001178\n",
      "0             VehicleAge    0.105545  0.000781\n",
      "3           WarrantyCost    0.103955  0.000381\n",
      "22               Cluster    0.083931  0.000752\n",
      "1                   Size    0.072975  0.000527\n",
      "19                Covers    0.062753  0.000611\n",
      "17  TrimCategory_Encoded    0.056231  0.000690\n",
      "18                 Alloy    0.051534  0.000548\n",
      "5          Adesa_Auction    0.039876  0.000638\n",
      "6         make_CHEVROLET    0.028333  0.000385\n",
      "9              make_FORD    0.023634  0.000367\n",
      "8             make_DODGE    0.018290  0.000346\n",
      "7          make_CHRYSLER    0.017050  0.000348\n",
      "20            isAmerican    0.014734  0.000247\n",
      "16            make_other    0.012319  0.000195\n",
      "14          make_PONTIAC    0.006227  0.000182\n",
      "13           make_NISSAN    0.005929  0.000074\n",
      "11             make_JEEP    0.004747  0.000081\n",
      "15           make_SATURN    0.003761  0.000085\n",
      "12              make_KIA    0.003222  0.000095\n",
      "10          make_HYUNDAI    0.002378  0.000064\n"
     ]
    }
   ],
   "source": [
    "\n",
    "from sklearn.inspection import permutation_importance\n",
    "\n",
    "\n",
    "# Trenirajte model (ovde koristimo Random Forest, ali može biti bilo koji drugi model)\n",
    "model = RandomForestClassifier(random_state=42)\n",
    "model.fit(X_train, y_train)\n",
    "\n",
    "# Koristite Permutation Importance\n",
    "result = permutation_importance(model, X_train, y_train, n_repeats=10, random_state=42, n_jobs=2)\n",
    "\n",
    "# Kreirajte DataFrame za lakšu analizu\n",
    "permutation_importance_df = pd.DataFrame({\n",
    "    'Feature': X_train.columns,\n",
    "    'Importance': result.importances_mean,\n",
    "    'Std Dev': result.importances_std\n",
    "})\n",
    "\n",
    "# Sortirajte po važnosti\n",
    "permutation_importance_df = permutation_importance_df.sort_values(by='Importance', ascending=False)\n",
    "\n",
    "# Prikaz rezultata\n",
    "print(permutation_importance_df)"
   ]
  },
  {
   "cell_type": "code",
   "execution_count": 80,
   "id": "3e8cc859",
   "metadata": {},
   "outputs": [
    {
     "name": "stdout",
     "output_type": "stream",
     "text": [
      "                 Feature  Importance\n",
      "4            CostPerMile    0.130045\n",
      "6            CostPerYear    0.129028\n",
      "24            MMRAverage    0.128883\n",
      "5        WarrantyPerMile    0.126807\n",
      "7        VehOdo_Standard    0.126560\n",
      "2               VehBCost    0.119602\n",
      "3           WarrantyCost    0.064831\n",
      "0             VehicleAge    0.028815\n",
      "1                   Size    0.027412\n",
      "20  TrimCategory_Encoded    0.017832\n",
      "8          Adesa_Auction    0.014568\n",
      "25               Cluster    0.010110\n"
     ]
    }
   ],
   "source": [
    "\n",
    "important_features = feature_importance_df[feature_importance_df['Importance'].abs() > 0.01]\n",
    "\n",
    "# Prikaz rezultata\n",
    "print(important_features)\n"
   ]
  },
  {
   "cell_type": "code",
   "execution_count": 81,
   "id": "5fcfc1c2",
   "metadata": {},
   "outputs": [
    {
     "name": "stdout",
     "output_type": "stream",
     "text": [
      "   CostPerMile  CostPerYear  MMRAverage  WarrantyPerMile  VehOdo_Standard  \\\n",
      "0     0.029310     0.437552    1.108157         1.153278         0.331758   \n",
      "1    -0.835121    -0.421819   -0.529157         0.066493         0.420841   \n",
      "2     0.294655     0.589024    1.146322        -0.654293         0.074933   \n",
      "3    -0.961328    -0.588748   -0.446700        -0.855236         1.475867   \n",
      "4    -0.300364     0.174795   -0.157577         0.218226         0.539168   \n",
      "\n",
      "   VehBCost  WarrantyCost  VehicleAge  Size  TrimCategory_Encoded  \\\n",
      "0  0.421311      1.160929           3     2                     1   \n",
      "1 -1.154650      0.185613           3     1                     0   \n",
      "2  0.699088     -0.596307           3     5                     1   \n",
      "3 -0.871204     -0.374569           4     1                     0   \n",
      "4 -0.060548      0.380676           3     2                     0   \n",
      "\n",
      "   Adesa_Auction  Cluster  \n",
      "0              0        0  \n",
      "1              0        1  \n",
      "2              0        0  \n",
      "3              0        1  \n",
      "4              1        1  \n"
     ]
    }
   ],
   "source": [
    "X_train_important = X_train[important_features['Feature']]\n",
    "\n",
    "# Prikaz novog DataFrame-a\n",
    "print(X_train_important.head())"
   ]
  },
  {
   "cell_type": "code",
   "execution_count": 82,
   "id": "9d8c7887",
   "metadata": {},
   "outputs": [
    {
     "name": "stdout",
     "output_type": "stream",
     "text": [
      "Precision: 0.8000\n",
      "Recall: 0.0016\n",
      "Accuracy: 0.8769\n",
      "AUC: 0.5007\n"
     ]
    }
   ],
   "source": [
    "\n",
    "\n",
    "model = LogisticRegression(solver='liblinear') \n",
    "\n",
    "\n",
    "scoring = {\n",
    "    'precision': make_scorer(precision_score),\n",
    "    'recall': make_scorer(recall_score),\n",
    "    'accuracy': make_scorer(accuracy_score),\n",
    "    'roc_auc': make_scorer(roc_auc_score)\n",
    "}\n",
    "\n",
    "\n",
    "cv = StratifiedKFold(n_splits=5)  \n",
    "\n",
    "\n",
    "results = cross_validate(model,X_train_important, train['IsBadBuy'], cv=cv, scoring=scoring)\n",
    "\n",
    "# Prikaz metrika\n",
    "print(f\"Precision: {results['test_precision'].mean():.4f}\")\n",
    "print(f\"Recall: {results['test_recall'].mean():.4f}\")\n",
    "print(f\"Accuracy: {results['test_accuracy'].mean():.4f}\")\n",
    "print(f\"AUC: {results['test_roc_auc'].mean():.4f}\")\n"
   ]
  },
  {
   "cell_type": "code",
   "execution_count": 83,
   "id": "dffb2548",
   "metadata": {},
   "outputs": [],
   "source": [
    "from sklearn.preprocessing import PolynomialFeatures\n",
    "train_x = train.drop(columns='IsBadBuy')\n",
    "train_y = train['IsBadBuy']\n",
    "model_poly = PolynomialFeatures(degree=2)\n",
    "x_poly = model_poly.fit_transform(train_x)\n",
    "feature_names = model_poly.get_feature_names_out()"
   ]
  },
  {
   "cell_type": "code",
   "execution_count": 84,
   "id": "62f35646",
   "metadata": {},
   "outputs": [
    {
     "data": {
      "text/plain": [
       "array(['1', 'VehicleAge', 'Size', 'VehBCost', 'WarrantyCost',\n",
       "       'CostPerMile', 'WarrantyPerMile', 'CostPerYear', 'VehOdo_Standard',\n",
       "       'Adesa_Auction', 'make_CHEVROLET', 'make_CHRYSLER', 'make_DODGE',\n",
       "       'make_FORD', 'make_HYUNDAI', 'make_JEEP', 'make_KIA',\n",
       "       'make_NISSAN', 'make_PONTIAC', 'make_SATURN', 'make_other',\n",
       "       'TrimCategory_Encoded', 'Alloy', 'Covers', 'isAmerican',\n",
       "       'MMRAverage', 'Cluster', 'VehicleAge^2', 'VehicleAge Size',\n",
       "       'VehicleAge VehBCost', 'VehicleAge WarrantyCost',\n",
       "       'VehicleAge CostPerMile', 'VehicleAge WarrantyPerMile',\n",
       "       'VehicleAge CostPerYear', 'VehicleAge VehOdo_Standard',\n",
       "       'VehicleAge Adesa_Auction', 'VehicleAge make_CHEVROLET',\n",
       "       'VehicleAge make_CHRYSLER', 'VehicleAge make_DODGE',\n",
       "       'VehicleAge make_FORD', 'VehicleAge make_HYUNDAI',\n",
       "       'VehicleAge make_JEEP', 'VehicleAge make_KIA',\n",
       "       'VehicleAge make_NISSAN', 'VehicleAge make_PONTIAC',\n",
       "       'VehicleAge make_SATURN', 'VehicleAge make_other',\n",
       "       'VehicleAge TrimCategory_Encoded', 'VehicleAge Alloy',\n",
       "       'VehicleAge Covers', 'VehicleAge isAmerican',\n",
       "       'VehicleAge MMRAverage', 'VehicleAge Cluster', 'Size^2',\n",
       "       'Size VehBCost', 'Size WarrantyCost', 'Size CostPerMile',\n",
       "       'Size WarrantyPerMile', 'Size CostPerYear', 'Size VehOdo_Standard',\n",
       "       'Size Adesa_Auction', 'Size make_CHEVROLET', 'Size make_CHRYSLER',\n",
       "       'Size make_DODGE', 'Size make_FORD', 'Size make_HYUNDAI',\n",
       "       'Size make_JEEP', 'Size make_KIA', 'Size make_NISSAN',\n",
       "       'Size make_PONTIAC', 'Size make_SATURN', 'Size make_other',\n",
       "       'Size TrimCategory_Encoded', 'Size Alloy', 'Size Covers',\n",
       "       'Size isAmerican', 'Size MMRAverage', 'Size Cluster', 'VehBCost^2',\n",
       "       'VehBCost WarrantyCost', 'VehBCost CostPerMile',\n",
       "       'VehBCost WarrantyPerMile', 'VehBCost CostPerYear',\n",
       "       'VehBCost VehOdo_Standard', 'VehBCost Adesa_Auction',\n",
       "       'VehBCost make_CHEVROLET', 'VehBCost make_CHRYSLER',\n",
       "       'VehBCost make_DODGE', 'VehBCost make_FORD',\n",
       "       'VehBCost make_HYUNDAI', 'VehBCost make_JEEP', 'VehBCost make_KIA',\n",
       "       'VehBCost make_NISSAN', 'VehBCost make_PONTIAC',\n",
       "       'VehBCost make_SATURN', 'VehBCost make_other',\n",
       "       'VehBCost TrimCategory_Encoded', 'VehBCost Alloy',\n",
       "       'VehBCost Covers', 'VehBCost isAmerican', 'VehBCost MMRAverage',\n",
       "       'VehBCost Cluster', 'WarrantyCost^2', 'WarrantyCost CostPerMile',\n",
       "       'WarrantyCost WarrantyPerMile', 'WarrantyCost CostPerYear',\n",
       "       'WarrantyCost VehOdo_Standard', 'WarrantyCost Adesa_Auction',\n",
       "       'WarrantyCost make_CHEVROLET', 'WarrantyCost make_CHRYSLER',\n",
       "       'WarrantyCost make_DODGE', 'WarrantyCost make_FORD',\n",
       "       'WarrantyCost make_HYUNDAI', 'WarrantyCost make_JEEP',\n",
       "       'WarrantyCost make_KIA', 'WarrantyCost make_NISSAN',\n",
       "       'WarrantyCost make_PONTIAC', 'WarrantyCost make_SATURN',\n",
       "       'WarrantyCost make_other', 'WarrantyCost TrimCategory_Encoded',\n",
       "       'WarrantyCost Alloy', 'WarrantyCost Covers',\n",
       "       'WarrantyCost isAmerican', 'WarrantyCost MMRAverage',\n",
       "       'WarrantyCost Cluster', 'CostPerMile^2',\n",
       "       'CostPerMile WarrantyPerMile', 'CostPerMile CostPerYear',\n",
       "       'CostPerMile VehOdo_Standard', 'CostPerMile Adesa_Auction',\n",
       "       'CostPerMile make_CHEVROLET', 'CostPerMile make_CHRYSLER',\n",
       "       'CostPerMile make_DODGE', 'CostPerMile make_FORD',\n",
       "       'CostPerMile make_HYUNDAI', 'CostPerMile make_JEEP',\n",
       "       'CostPerMile make_KIA', 'CostPerMile make_NISSAN',\n",
       "       'CostPerMile make_PONTIAC', 'CostPerMile make_SATURN',\n",
       "       'CostPerMile make_other', 'CostPerMile TrimCategory_Encoded',\n",
       "       'CostPerMile Alloy', 'CostPerMile Covers',\n",
       "       'CostPerMile isAmerican', 'CostPerMile MMRAverage',\n",
       "       'CostPerMile Cluster', 'WarrantyPerMile^2',\n",
       "       'WarrantyPerMile CostPerYear', 'WarrantyPerMile VehOdo_Standard',\n",
       "       'WarrantyPerMile Adesa_Auction', 'WarrantyPerMile make_CHEVROLET',\n",
       "       'WarrantyPerMile make_CHRYSLER', 'WarrantyPerMile make_DODGE',\n",
       "       'WarrantyPerMile make_FORD', 'WarrantyPerMile make_HYUNDAI',\n",
       "       'WarrantyPerMile make_JEEP', 'WarrantyPerMile make_KIA',\n",
       "       'WarrantyPerMile make_NISSAN', 'WarrantyPerMile make_PONTIAC',\n",
       "       'WarrantyPerMile make_SATURN', 'WarrantyPerMile make_other',\n",
       "       'WarrantyPerMile TrimCategory_Encoded', 'WarrantyPerMile Alloy',\n",
       "       'WarrantyPerMile Covers', 'WarrantyPerMile isAmerican',\n",
       "       'WarrantyPerMile MMRAverage', 'WarrantyPerMile Cluster',\n",
       "       'CostPerYear^2', 'CostPerYear VehOdo_Standard',\n",
       "       'CostPerYear Adesa_Auction', 'CostPerYear make_CHEVROLET',\n",
       "       'CostPerYear make_CHRYSLER', 'CostPerYear make_DODGE',\n",
       "       'CostPerYear make_FORD', 'CostPerYear make_HYUNDAI',\n",
       "       'CostPerYear make_JEEP', 'CostPerYear make_KIA',\n",
       "       'CostPerYear make_NISSAN', 'CostPerYear make_PONTIAC',\n",
       "       'CostPerYear make_SATURN', 'CostPerYear make_other',\n",
       "       'CostPerYear TrimCategory_Encoded', 'CostPerYear Alloy',\n",
       "       'CostPerYear Covers', 'CostPerYear isAmerican',\n",
       "       'CostPerYear MMRAverage', 'CostPerYear Cluster',\n",
       "       'VehOdo_Standard^2', 'VehOdo_Standard Adesa_Auction',\n",
       "       'VehOdo_Standard make_CHEVROLET', 'VehOdo_Standard make_CHRYSLER',\n",
       "       'VehOdo_Standard make_DODGE', 'VehOdo_Standard make_FORD',\n",
       "       'VehOdo_Standard make_HYUNDAI', 'VehOdo_Standard make_JEEP',\n",
       "       'VehOdo_Standard make_KIA', 'VehOdo_Standard make_NISSAN',\n",
       "       'VehOdo_Standard make_PONTIAC', 'VehOdo_Standard make_SATURN',\n",
       "       'VehOdo_Standard make_other',\n",
       "       'VehOdo_Standard TrimCategory_Encoded', 'VehOdo_Standard Alloy',\n",
       "       'VehOdo_Standard Covers', 'VehOdo_Standard isAmerican',\n",
       "       'VehOdo_Standard MMRAverage', 'VehOdo_Standard Cluster',\n",
       "       'Adesa_Auction^2', 'Adesa_Auction make_CHEVROLET',\n",
       "       'Adesa_Auction make_CHRYSLER', 'Adesa_Auction make_DODGE',\n",
       "       'Adesa_Auction make_FORD', 'Adesa_Auction make_HYUNDAI',\n",
       "       'Adesa_Auction make_JEEP', 'Adesa_Auction make_KIA',\n",
       "       'Adesa_Auction make_NISSAN', 'Adesa_Auction make_PONTIAC',\n",
       "       'Adesa_Auction make_SATURN', 'Adesa_Auction make_other',\n",
       "       'Adesa_Auction TrimCategory_Encoded', 'Adesa_Auction Alloy',\n",
       "       'Adesa_Auction Covers', 'Adesa_Auction isAmerican',\n",
       "       'Adesa_Auction MMRAverage', 'Adesa_Auction Cluster',\n",
       "       'make_CHEVROLET^2', 'make_CHEVROLET make_CHRYSLER',\n",
       "       'make_CHEVROLET make_DODGE', 'make_CHEVROLET make_FORD',\n",
       "       'make_CHEVROLET make_HYUNDAI', 'make_CHEVROLET make_JEEP',\n",
       "       'make_CHEVROLET make_KIA', 'make_CHEVROLET make_NISSAN',\n",
       "       'make_CHEVROLET make_PONTIAC', 'make_CHEVROLET make_SATURN',\n",
       "       'make_CHEVROLET make_other', 'make_CHEVROLET TrimCategory_Encoded',\n",
       "       'make_CHEVROLET Alloy', 'make_CHEVROLET Covers',\n",
       "       'make_CHEVROLET isAmerican', 'make_CHEVROLET MMRAverage',\n",
       "       'make_CHEVROLET Cluster', 'make_CHRYSLER^2',\n",
       "       'make_CHRYSLER make_DODGE', 'make_CHRYSLER make_FORD',\n",
       "       'make_CHRYSLER make_HYUNDAI', 'make_CHRYSLER make_JEEP',\n",
       "       'make_CHRYSLER make_KIA', 'make_CHRYSLER make_NISSAN',\n",
       "       'make_CHRYSLER make_PONTIAC', 'make_CHRYSLER make_SATURN',\n",
       "       'make_CHRYSLER make_other', 'make_CHRYSLER TrimCategory_Encoded',\n",
       "       'make_CHRYSLER Alloy', 'make_CHRYSLER Covers',\n",
       "       'make_CHRYSLER isAmerican', 'make_CHRYSLER MMRAverage',\n",
       "       'make_CHRYSLER Cluster', 'make_DODGE^2', 'make_DODGE make_FORD',\n",
       "       'make_DODGE make_HYUNDAI', 'make_DODGE make_JEEP',\n",
       "       'make_DODGE make_KIA', 'make_DODGE make_NISSAN',\n",
       "       'make_DODGE make_PONTIAC', 'make_DODGE make_SATURN',\n",
       "       'make_DODGE make_other', 'make_DODGE TrimCategory_Encoded',\n",
       "       'make_DODGE Alloy', 'make_DODGE Covers', 'make_DODGE isAmerican',\n",
       "       'make_DODGE MMRAverage', 'make_DODGE Cluster', 'make_FORD^2',\n",
       "       'make_FORD make_HYUNDAI', 'make_FORD make_JEEP',\n",
       "       'make_FORD make_KIA', 'make_FORD make_NISSAN',\n",
       "       'make_FORD make_PONTIAC', 'make_FORD make_SATURN',\n",
       "       'make_FORD make_other', 'make_FORD TrimCategory_Encoded',\n",
       "       'make_FORD Alloy', 'make_FORD Covers', 'make_FORD isAmerican',\n",
       "       'make_FORD MMRAverage', 'make_FORD Cluster', 'make_HYUNDAI^2',\n",
       "       'make_HYUNDAI make_JEEP', 'make_HYUNDAI make_KIA',\n",
       "       'make_HYUNDAI make_NISSAN', 'make_HYUNDAI make_PONTIAC',\n",
       "       'make_HYUNDAI make_SATURN', 'make_HYUNDAI make_other',\n",
       "       'make_HYUNDAI TrimCategory_Encoded', 'make_HYUNDAI Alloy',\n",
       "       'make_HYUNDAI Covers', 'make_HYUNDAI isAmerican',\n",
       "       'make_HYUNDAI MMRAverage', 'make_HYUNDAI Cluster', 'make_JEEP^2',\n",
       "       'make_JEEP make_KIA', 'make_JEEP make_NISSAN',\n",
       "       'make_JEEP make_PONTIAC', 'make_JEEP make_SATURN',\n",
       "       'make_JEEP make_other', 'make_JEEP TrimCategory_Encoded',\n",
       "       'make_JEEP Alloy', 'make_JEEP Covers', 'make_JEEP isAmerican',\n",
       "       'make_JEEP MMRAverage', 'make_JEEP Cluster', 'make_KIA^2',\n",
       "       'make_KIA make_NISSAN', 'make_KIA make_PONTIAC',\n",
       "       'make_KIA make_SATURN', 'make_KIA make_other',\n",
       "       'make_KIA TrimCategory_Encoded', 'make_KIA Alloy',\n",
       "       'make_KIA Covers', 'make_KIA isAmerican', 'make_KIA MMRAverage',\n",
       "       'make_KIA Cluster', 'make_NISSAN^2', 'make_NISSAN make_PONTIAC',\n",
       "       'make_NISSAN make_SATURN', 'make_NISSAN make_other',\n",
       "       'make_NISSAN TrimCategory_Encoded', 'make_NISSAN Alloy',\n",
       "       'make_NISSAN Covers', 'make_NISSAN isAmerican',\n",
       "       'make_NISSAN MMRAverage', 'make_NISSAN Cluster', 'make_PONTIAC^2',\n",
       "       'make_PONTIAC make_SATURN', 'make_PONTIAC make_other',\n",
       "       'make_PONTIAC TrimCategory_Encoded', 'make_PONTIAC Alloy',\n",
       "       'make_PONTIAC Covers', 'make_PONTIAC isAmerican',\n",
       "       'make_PONTIAC MMRAverage', 'make_PONTIAC Cluster', 'make_SATURN^2',\n",
       "       'make_SATURN make_other', 'make_SATURN TrimCategory_Encoded',\n",
       "       'make_SATURN Alloy', 'make_SATURN Covers',\n",
       "       'make_SATURN isAmerican', 'make_SATURN MMRAverage',\n",
       "       'make_SATURN Cluster', 'make_other^2',\n",
       "       'make_other TrimCategory_Encoded', 'make_other Alloy',\n",
       "       'make_other Covers', 'make_other isAmerican',\n",
       "       'make_other MMRAverage', 'make_other Cluster',\n",
       "       'TrimCategory_Encoded^2', 'TrimCategory_Encoded Alloy',\n",
       "       'TrimCategory_Encoded Covers', 'TrimCategory_Encoded isAmerican',\n",
       "       'TrimCategory_Encoded MMRAverage', 'TrimCategory_Encoded Cluster',\n",
       "       'Alloy^2', 'Alloy Covers', 'Alloy isAmerican', 'Alloy MMRAverage',\n",
       "       'Alloy Cluster', 'Covers^2', 'Covers isAmerican',\n",
       "       'Covers MMRAverage', 'Covers Cluster', 'isAmerican^2',\n",
       "       'isAmerican MMRAverage', 'isAmerican Cluster', 'MMRAverage^2',\n",
       "       'MMRAverage Cluster', 'Cluster^2'], dtype=object)"
      ]
     },
     "execution_count": 84,
     "metadata": {},
     "output_type": "execute_result"
    }
   ],
   "source": [
    "feature_names"
   ]
  },
  {
   "cell_type": "code",
   "execution_count": 85,
   "id": "286d8fa9",
   "metadata": {},
   "outputs": [
    {
     "name": "stdout",
     "output_type": "stream",
     "text": [
      "Selected features using Lasso: ['VehicleAge^2' 'VehicleAge VehBCost' 'VehicleAge WarrantyCost'\n",
      " 'VehicleAge VehOdo_Standard' 'VehicleAge Adesa_Auction'\n",
      " 'VehicleAge make_CHEVROLET' 'VehicleAge TrimCategory_Encoded'\n",
      " 'VehicleAge Alloy' 'Size^2' 'Size make_CHEVROLET' 'Size MMRAverage'\n",
      " 'VehBCost^2' 'CostPerMile^2' 'CostPerMile MMRAverage' 'WarrantyPerMile^2']\n"
     ]
    }
   ],
   "source": [
    "from sklearn.linear_model import Lasso\n",
    "from sklearn.feature_selection import SelectFromModel\n",
    "\n",
    "model = Lasso(alpha=0.01)\n",
    "selector = SelectFromModel(model)\n",
    "X_selected_lasso = selector.fit_transform(x_poly, train['IsBadBuy'])\n",
    "selected_features_lasso = selector.get_feature_names_out(feature_names)\n",
    "print(\"Selected features using Lasso:\", selected_features_lasso)"
   ]
  },
  {
   "cell_type": "markdown",
   "id": "853fefc2",
   "metadata": {},
   "source": [
    "Koristili smo poly da napravimo nelinearne kombinacije atributa, zatim smo laso regularizacijom odabrali najznacajnije atribute i onda smo napravili model logisticke regresije, koji je pokazao bolje rezultate nego sa nasim obicnim atributima."
   ]
  },
  {
   "cell_type": "code",
   "execution_count": 86,
   "id": "c2ff37a4",
   "metadata": {},
   "outputs": [
    {
     "name": "stdout",
     "output_type": "stream",
     "text": [
      "Accuracy: 0.8840\n",
      "Precision: 0.4074\n",
      "Recall: 0.0187\n",
      "AUC: 0.6722\n"
     ]
    }
   ],
   "source": [
    "from sklearn.model_selection import train_test_split\n",
    "\n",
    "X_train_selected, X_test_selected, y_train, y_test = train_test_split(\n",
    "    X_selected_lasso, train['IsBadBuy'], test_size=0.2, random_state=42\n",
    ")\n",
    "\n",
    "# Kreiranje i treniranje modela logističke regresije\n",
    "model_poly_log_reg = LogisticRegression(solver='liblinear', random_state=42)\n",
    "model_poly_log_reg.fit(X_train_selected, y_train)\n",
    "\n",
    "# Predikcija na test setu\n",
    "y_pred = model_poly_log_reg.predict(X_test_selected)\n",
    "y_pred_proba = model_poly_log_reg.predict_proba(X_test_selected)[:, 1]\n",
    "\n",
    "# Evaluacija performansi modela\n",
    "accuracy = accuracy_score(y_test, y_pred)\n",
    "precision = precision_score(y_test, y_pred)\n",
    "recall = recall_score(y_test, y_pred)\n",
    "roc_auc = roc_auc_score(y_test, y_pred_proba)\n",
    "\n",
    "print(f\"Accuracy: {accuracy:.4f}\")\n",
    "print(f\"Precision: {precision:.4f}\")\n",
    "print(f\"Recall: {recall:.4f}\")\n",
    "print(f\"AUC: {roc_auc:.4f}\")"
   ]
  },
  {
   "cell_type": "code",
   "execution_count": null,
   "id": "98e3a941",
   "metadata": {},
   "outputs": [],
   "source": []
  },
  {
   "cell_type": "code",
   "execution_count": 87,
   "id": "4db34413",
   "metadata": {},
   "outputs": [],
   "source": [
    "# Priprema validacionog skupa na isti način kao što je urađeno za trening set\n",
    "valid_x = valid.drop(columns='IsBadBuy')\n",
    "valid_y = valid['IsBadBuy']\n",
    "x_valid_poly = model_poly.transform(valid_x)  # Koristimo transformaciju sa istim modelom\n",
    "\n",
    "# Selektovanje atributa na osnovu Lasso modela\n",
    "X_valid_selected = selector.transform(x_valid_poly)  # Koristimo selektor koji je već treniran\n"
   ]
  },
  {
   "cell_type": "code",
   "execution_count": 90,
   "id": "b3e087ed",
   "metadata": {},
   "outputs": [
    {
     "name": "stdout",
     "output_type": "stream",
     "text": [
      "Best Hyperparameters: {'penalty': 'l1', 'C': 0.005, 'solver': 'liblinear'}\n",
      "Best AUC on validation set: 0.6739\n"
     ]
    }
   ],
   "source": [
    "best_score = -float('inf')\n",
    "best_params = {}\n",
    "best_model = None\n",
    "\n",
    "# Iteriramo kroz sve kombinacije hiperparametara\n",
    "for penalty in ['l1']:\n",
    "    for C in [0.01, 0.005]:\n",
    "        for solver in ['liblinear']:\n",
    "            if penalty == 'l1' and solver == 'saga':\n",
    "                continue  # saga ne podržava L1 bez ElasticNet\n",
    "\n",
    "            # Kreiramo i treniramo model sa trenutnim hiperparametrima\n",
    "            model_poly_log_reg = LogisticRegression(penalty=penalty, C=C, solver=solver, random_state=42,max_iter=1500)\n",
    "            model_poly_log_reg.fit(X_train_selected, y_train)\n",
    "\n",
    "            # Evaluacija na validacionom setu\n",
    "            y_valid_pred_proba = model_poly_log_reg.predict_proba(X_valid_selected)[:, 1]\n",
    "            score = roc_auc_score(valid_y, y_valid_pred_proba)\n",
    "\n",
    "            # Provera da li je trenutni model najbolji\n",
    "            if score > best_score:\n",
    "                best_score = score\n",
    "                best_params = {'penalty': penalty, 'C': C, 'solver': solver}\n",
    "                best_model = model_poly_log_reg\n",
    "\n",
    "# Prikaz najboljih hiperparametara i rezultata\n",
    "print(f\"Best Hyperparameters: {best_params}\")\n",
    "print(f\"Best AUC on validation set: {best_score:.4f}\")\n"
   ]
  },
  {
   "cell_type": "markdown",
   "id": "672d34b8",
   "metadata": {},
   "source": [
    "Best Hyperparameters: {'penalty': 'l1', 'C': 0.01, 'solver': 'liblinear'}\n",
    "Best AUC on validation set: 0.6737\n",
    "prva iteracija\n",
    "Best Hyperparameters: {'penalty': 'l1', 'C': 0.005, 'solver': 'liblinear'}\n",
    "Best AUC on validation set: 0.6739"
   ]
  },
  {
   "cell_type": "code",
   "execution_count": 91,
   "id": "6f94c0ed",
   "metadata": {},
   "outputs": [],
   "source": [
    "test = pd.read_csv('test_final.csv')"
   ]
  },
  {
   "cell_type": "code",
   "execution_count": 92,
   "id": "d7413009",
   "metadata": {},
   "outputs": [],
   "source": [
    "# Pretpostavimo da je 'IsBadBuy' ciljna promenljiva u test setu\n",
    "test_x = test.drop(columns='IsBadBuy')\n",
    "test_y = test['IsBadBuy']\n",
    "\n",
    "# Transformacija test skupa koristeći PolynomialFeatures i Lasso selektor\n",
    "x_test_poly = model_poly.transform(test_x)\n",
    "X_test_selected = selector.transform(x_test_poly)\n",
    "\n",
    "\n"
   ]
  },
  {
   "cell_type": "code",
   "execution_count": 93,
   "id": "899c00a0",
   "metadata": {},
   "outputs": [
    {
     "data": {
      "text/html": [
       "<style>#sk-container-id-4 {color: black;background-color: white;}#sk-container-id-4 pre{padding: 0;}#sk-container-id-4 div.sk-toggleable {background-color: white;}#sk-container-id-4 label.sk-toggleable__label {cursor: pointer;display: block;width: 100%;margin-bottom: 0;padding: 0.3em;box-sizing: border-box;text-align: center;}#sk-container-id-4 label.sk-toggleable__label-arrow:before {content: \"▸\";float: left;margin-right: 0.25em;color: #696969;}#sk-container-id-4 label.sk-toggleable__label-arrow:hover:before {color: black;}#sk-container-id-4 div.sk-estimator:hover label.sk-toggleable__label-arrow:before {color: black;}#sk-container-id-4 div.sk-toggleable__content {max-height: 0;max-width: 0;overflow: hidden;text-align: left;background-color: #f0f8ff;}#sk-container-id-4 div.sk-toggleable__content pre {margin: 0.2em;color: black;border-radius: 0.25em;background-color: #f0f8ff;}#sk-container-id-4 input.sk-toggleable__control:checked~div.sk-toggleable__content {max-height: 200px;max-width: 100%;overflow: auto;}#sk-container-id-4 input.sk-toggleable__control:checked~label.sk-toggleable__label-arrow:before {content: \"▾\";}#sk-container-id-4 div.sk-estimator input.sk-toggleable__control:checked~label.sk-toggleable__label {background-color: #d4ebff;}#sk-container-id-4 div.sk-label input.sk-toggleable__control:checked~label.sk-toggleable__label {background-color: #d4ebff;}#sk-container-id-4 input.sk-hidden--visually {border: 0;clip: rect(1px 1px 1px 1px);clip: rect(1px, 1px, 1px, 1px);height: 1px;margin: -1px;overflow: hidden;padding: 0;position: absolute;width: 1px;}#sk-container-id-4 div.sk-estimator {font-family: monospace;background-color: #f0f8ff;border: 1px dotted black;border-radius: 0.25em;box-sizing: border-box;margin-bottom: 0.5em;}#sk-container-id-4 div.sk-estimator:hover {background-color: #d4ebff;}#sk-container-id-4 div.sk-parallel-item::after {content: \"\";width: 100%;border-bottom: 1px solid gray;flex-grow: 1;}#sk-container-id-4 div.sk-label:hover label.sk-toggleable__label {background-color: #d4ebff;}#sk-container-id-4 div.sk-serial::before {content: \"\";position: absolute;border-left: 1px solid gray;box-sizing: border-box;top: 0;bottom: 0;left: 50%;z-index: 0;}#sk-container-id-4 div.sk-serial {display: flex;flex-direction: column;align-items: center;background-color: white;padding-right: 0.2em;padding-left: 0.2em;position: relative;}#sk-container-id-4 div.sk-item {position: relative;z-index: 1;}#sk-container-id-4 div.sk-parallel {display: flex;align-items: stretch;justify-content: center;background-color: white;position: relative;}#sk-container-id-4 div.sk-item::before, #sk-container-id-4 div.sk-parallel-item::before {content: \"\";position: absolute;border-left: 1px solid gray;box-sizing: border-box;top: 0;bottom: 0;left: 50%;z-index: -1;}#sk-container-id-4 div.sk-parallel-item {display: flex;flex-direction: column;z-index: 1;position: relative;background-color: white;}#sk-container-id-4 div.sk-parallel-item:first-child::after {align-self: flex-end;width: 50%;}#sk-container-id-4 div.sk-parallel-item:last-child::after {align-self: flex-start;width: 50%;}#sk-container-id-4 div.sk-parallel-item:only-child::after {width: 0;}#sk-container-id-4 div.sk-dashed-wrapped {border: 1px dashed gray;margin: 0 0.4em 0.5em 0.4em;box-sizing: border-box;padding-bottom: 0.4em;background-color: white;}#sk-container-id-4 div.sk-label label {font-family: monospace;font-weight: bold;display: inline-block;line-height: 1.2em;}#sk-container-id-4 div.sk-label-container {text-align: center;}#sk-container-id-4 div.sk-container {/* jupyter's `normalize.less` sets `[hidden] { display: none; }` but bootstrap.min.css set `[hidden] { display: none !important; }` so we also need the `!important` here to be able to override the default hidden behavior on the sphinx rendered scikit-learn.org. See: https://github.com/scikit-learn/scikit-learn/issues/21755 */display: inline-block !important;position: relative;}#sk-container-id-4 div.sk-text-repr-fallback {display: none;}</style><div id=\"sk-container-id-4\" class=\"sk-top-container\"><div class=\"sk-text-repr-fallback\"><pre>LogisticRegression(C=0.05, max_iter=1000, penalty=&#x27;l1&#x27;, random_state=42,\n",
       "                   solver=&#x27;liblinear&#x27;)</pre><b>In a Jupyter environment, please rerun this cell to show the HTML representation or trust the notebook. <br />On GitHub, the HTML representation is unable to render, please try loading this page with nbviewer.org.</b></div><div class=\"sk-container\" hidden><div class=\"sk-item\"><div class=\"sk-estimator sk-toggleable\"><input class=\"sk-toggleable__control sk-hidden--visually\" id=\"sk-estimator-id-4\" type=\"checkbox\" checked><label for=\"sk-estimator-id-4\" class=\"sk-toggleable__label sk-toggleable__label-arrow\">LogisticRegression</label><div class=\"sk-toggleable__content\"><pre>LogisticRegression(C=0.05, max_iter=1000, penalty=&#x27;l1&#x27;, random_state=42,\n",
       "                   solver=&#x27;liblinear&#x27;)</pre></div></div></div></div></div>"
      ],
      "text/plain": [
       "LogisticRegression(C=0.05, max_iter=1000, penalty='l1', random_state=42,\n",
       "                   solver='liblinear')"
      ]
     },
     "execution_count": 93,
     "metadata": {},
     "output_type": "execute_result"
    }
   ],
   "source": [
    "final_model = LogisticRegression(\n",
    "    penalty='l1', \n",
    "    C=0.05, \n",
    "    solver='liblinear', \n",
    "    random_state=42,\n",
    "    max_iter=1000  # Dodatno povećan broj iteracija za osiguranje konvergencije\n",
    ")\n",
    "\n",
    "# Treniranje modela na trening skupu\n",
    "final_model.fit(X_train_selected, y_train)"
   ]
  },
  {
   "cell_type": "code",
   "execution_count": 175,
   "id": "4447e369",
   "metadata": {},
   "outputs": [
    {
     "name": "stdout",
     "output_type": "stream",
     "text": [
      "Accuracy on test set: 0.8780\n",
      "Precision on test set: 0.5116\n",
      "Recall on test set: 0.0165\n",
      "AUC on test set: 0.6731\n",
      "\n",
      "Classification Report:\n",
      "              precision    recall  f1-score   support\n",
      "\n",
      "           0       0.88      1.00      0.93      9611\n",
      "           1       0.51      0.02      0.03      1336\n",
      "\n",
      "    accuracy                           0.88     10947\n",
      "   macro avg       0.70      0.51      0.48     10947\n",
      "weighted avg       0.83      0.88      0.82     10947\n",
      "\n",
      "\n",
      "AUC on test set: 0.6731\n"
     ]
    }
   ],
   "source": [
    "from sklearn.metrics import classification_report, roc_auc_score\n",
    "\n",
    "# Predikcije na test setu\n",
    "y_test_pred = final_model.predict(X_valid_selected)\n",
    "y_test_pred_proba = final_model.predict_proba(X_valid_selected)[:, 1]\n",
    "\n",
    "# Evaluacija performansi modela na test setu\n",
    "accuracy = accuracy_score(valid_y, y_test_pred)\n",
    "precision = precision_score(valid_y, y_test_pred)\n",
    "recall = recall_score(valid_y, y_test_pred)\n",
    "roc_auc = roc_auc_score(valid_y, y_test_pred_proba)\n",
    "\n",
    "# Prikaz rezultata\n",
    "print(f\"Accuracy on test set: {accuracy:.4f}\")\n",
    "print(f\"Precision on test set: {precision:.4f}\")\n",
    "print(f\"Recall on test set: {recall:.4f}\")\n",
    "print(f\"AUC on test set: {roc_auc:.4f}\")\n",
    "\n",
    "# Prikaz classification report-a\n",
    "print(\"\\nClassification Report:\")\n",
    "print(classification_report(valid_y, y_test_pred))\n",
    "\n",
    "# Prikaz AUC-a\n",
    "print(f\"\\nAUC on test set: {roc_auc:.4f}\")\n"
   ]
  },
  {
   "cell_type": "code",
   "execution_count": 96,
   "id": "d255103d",
   "metadata": {},
   "outputs": [],
   "source": [
    "train_x = train.drop(columns='IsBadBuy')\n",
    "train_y = train['IsBadBuy']\n",
    "valid_x = valid.drop(columns='IsBadBuy')\n",
    "valid_y = valid['IsBadBuy']\n",
    "test_x = test.drop(columns='IsBadBuy')\n",
    "test_y = test['IsBadBuy']\n",
    "\n",
    "# Transformacija podataka koristeći PolynomialFeatures\n",
    "x_poly_train = model_poly.fit_transform(train_x)\n",
    "x_poly_valid = model_poly.transform(valid_x)\n",
    "x_poly_test = model_poly.transform(test_x)\n",
    "\n",
    "# Selektovanje atributa na osnovu Lasso modela\n",
    "X_train_selected = selector.fit_transform(x_poly_train, train_y)\n",
    "X_valid_selected = selector.transform(x_poly_valid)\n",
    "X_test_selected = selector.transform(x_poly_test)\n",
    "\n"
   ]
  },
  {
   "cell_type": "markdown",
   "id": "e6fe1d66",
   "metadata": {},
   "source": [
    "# Random Forest"
   ]
  },
  {
   "cell_type": "code",
   "execution_count": 110,
   "id": "6d4dbd6f",
   "metadata": {},
   "outputs": [
    {
     "name": "stdout",
     "output_type": "stream",
     "text": [
      "Mean ROC AUC: 0.6850\n",
      "Mean Precision: 0.2010\n",
      "Mean Recall: 0.5994\n",
      "Mean F1-Score: 0.3010\n"
     ]
    }
   ],
   "source": [
    "from sklearn.ensemble import RandomForestClassifier\n",
    "from sklearn.model_selection import cross_validate\n",
    "\n",
    "# Kreiranje Random Forest modela\n",
    "rf_model = RandomForestClassifier(min_samples_split= 100,min_samples_leaf= 100, max_depth= 8,criterion= 'entropy',\n",
    "                                 class_weight= {0: 1, 1: 7.0}, random_state=42)\n",
    "\n",
    "\n",
    "\n",
    "\n",
    "\n",
    "# Definisanje scoring metrika\n",
    "scoring = ['roc_auc', 'precision', 'recall', 'f1']\n",
    "\n",
    "# Cross-validacija sa više metrika\n",
    "cv_results = cross_validate(rf_model, X_train_selected, train_y, cv=5, scoring=scoring, n_jobs=-1)\n",
    "\n",
    "# Prikaz prosečnih rezultata za svaku metriku\n",
    "print(f\"Mean ROC AUC: {cv_results['test_roc_auc'].mean():.4f}\")\n",
    "print(f\"Mean Precision: {cv_results['test_precision'].mean():.4f}\")\n",
    "print(f\"Mean Recall: {cv_results['test_recall'].mean():.4f}\")\n",
    "print(f\"Mean F1-Score: {cv_results['test_f1'].mean():.4f}\")\n"
   ]
  },
  {
   "cell_type": "markdown",
   "id": "b16a9c5e",
   "metadata": {},
   "source": [
    "Mean ROC AUC: 0.6894\n",
    "Mean Precision: 0.2008\n",
    "Mean Recall: 0.6183\n",
    "Mean F1-Score: 0.3031 NA TRAIN_X"
   ]
  },
  {
   "cell_type": "markdown",
   "id": "208e1fef",
   "metadata": {},
   "source": [
    "Mean ROC AUC: 0.6850\n",
    "Mean Precision: 0.2010\n",
    "Mean Recall: 0.5994\n",
    "Mean F1-Score: 0.3010 NA TRAIN_X_Selected"
   ]
  },
  {
   "cell_type": "code",
   "execution_count": 122,
   "id": "fde8b1a0",
   "metadata": {},
   "outputs": [
    {
     "name": "stdout",
     "output_type": "stream",
     "text": [
      "Fitting 5 folds for each of 81 candidates, totalling 405 fits\n",
      "Best Hyperparameters for Random Forest: {'class_weight': {0: 1, 1: 7.5}, 'criterion': 'entropy', 'max_depth': 15, 'min_samples_leaf': 30, 'min_samples_split': 175}\n"
     ]
    }
   ],
   "source": [
    "from sklearn.ensemble import RandomForestClassifier\n",
    "from sklearn.model_selection import GridSearchCV\n",
    "\n",
    "# Definisanje mreže hiperparametara za pretragu\n",
    "param_grid = {\n",
    "    'min_samples_split': [135, 175, 150],\n",
    "    'min_samples_leaf': [50, 30, 60],\n",
    "    'max_depth': [18, 15, 12],\n",
    "    'criterion': ['entropy'],\n",
    "    'class_weight': [{0: 1, 1: 8.5}, {0: 1, 1: 8.0},{0: 1, 1: 7.5}]\n",
    "    \n",
    "}\n",
    "\n",
    "# Kreiranje Random Forest modela\n",
    "rf_model = RandomForestClassifier(random_state=42)\n",
    "from sklearn.model_selection import GridSearchCV\n",
    "\n",
    "# Grid Search sa 5-fold cross-validacijom\n",
    "grid_search_rf = GridSearchCV(estimator=rf_model, param_grid=param_grid, \n",
    "                              cv=5, scoring='roc_auc', n_jobs=-1, verbose=2)\n",
    "\n",
    "# Treniranje modela sa Grid Search-om na trening skupu\n",
    "grid_search_rf.fit(train_x, train_y)\n",
    "\n",
    "# Prikaz najboljih hiperparametara\n",
    "best_params_rf = grid_search_rf.best_params_\n",
    "print(f\"Best Hyperparameters for Random Forest: {best_params_rf}\")\n"
   ]
  },
  {
   "cell_type": "markdown",
   "id": "453ef1e7",
   "metadata": {},
   "source": [
    "Fitting 5 folds for each of 144 candidates, totalling 720 fits\n",
    "Best Hyperparameters for Random Forest: {'class_weight': {0: 1, 1: 8.0}, 'criterion': 'entropy', 'max_depth': 12, 'min_samples_leaf': 50, 'min_samples_split': 150}"
   ]
  },
  {
   "cell_type": "markdown",
   "id": "6276938c",
   "metadata": {},
   "source": [
    "Fitting 5 folds for each of 81 candidates, totalling 405 fits\n",
    "Best Hyperparameters for Random Forest: {'class_weight': {0: 1, 1: 7.5}, 'criterion': 'entropy', 'max_depth': 15, 'min_samples_leaf': 30, 'min_samples_split': 175} Druga iteracija"
   ]
  },
  {
   "cell_type": "markdown",
   "id": "a10345f2",
   "metadata": {},
   "source": [
    "param_grid = {\n",
    "    'min_samples_split': [50, 100, 150],\n",
    "    'min_samples_leaf': [50, 100, 150],\n",
    "    'max_depth': [6, 8, 10, 12],\n",
    "    'criterion': ['gini', 'entropy'],\n",
    "    'class_weight': [{0: 1, 1: 7.0}, {0: 1, 1: 8.0}]\n",
    "}\n",
    "Ovo su bili parametri u prvoj iteraciji grid searcha \n"
   ]
  },
  {
   "cell_type": "code",
   "execution_count": 117,
   "id": "1d9c9def",
   "metadata": {},
   "outputs": [
    {
     "data": {
      "text/html": [
       "<style>#sk-container-id-7 {color: black;background-color: white;}#sk-container-id-7 pre{padding: 0;}#sk-container-id-7 div.sk-toggleable {background-color: white;}#sk-container-id-7 label.sk-toggleable__label {cursor: pointer;display: block;width: 100%;margin-bottom: 0;padding: 0.3em;box-sizing: border-box;text-align: center;}#sk-container-id-7 label.sk-toggleable__label-arrow:before {content: \"▸\";float: left;margin-right: 0.25em;color: #696969;}#sk-container-id-7 label.sk-toggleable__label-arrow:hover:before {color: black;}#sk-container-id-7 div.sk-estimator:hover label.sk-toggleable__label-arrow:before {color: black;}#sk-container-id-7 div.sk-toggleable__content {max-height: 0;max-width: 0;overflow: hidden;text-align: left;background-color: #f0f8ff;}#sk-container-id-7 div.sk-toggleable__content pre {margin: 0.2em;color: black;border-radius: 0.25em;background-color: #f0f8ff;}#sk-container-id-7 input.sk-toggleable__control:checked~div.sk-toggleable__content {max-height: 200px;max-width: 100%;overflow: auto;}#sk-container-id-7 input.sk-toggleable__control:checked~label.sk-toggleable__label-arrow:before {content: \"▾\";}#sk-container-id-7 div.sk-estimator input.sk-toggleable__control:checked~label.sk-toggleable__label {background-color: #d4ebff;}#sk-container-id-7 div.sk-label input.sk-toggleable__control:checked~label.sk-toggleable__label {background-color: #d4ebff;}#sk-container-id-7 input.sk-hidden--visually {border: 0;clip: rect(1px 1px 1px 1px);clip: rect(1px, 1px, 1px, 1px);height: 1px;margin: -1px;overflow: hidden;padding: 0;position: absolute;width: 1px;}#sk-container-id-7 div.sk-estimator {font-family: monospace;background-color: #f0f8ff;border: 1px dotted black;border-radius: 0.25em;box-sizing: border-box;margin-bottom: 0.5em;}#sk-container-id-7 div.sk-estimator:hover {background-color: #d4ebff;}#sk-container-id-7 div.sk-parallel-item::after {content: \"\";width: 100%;border-bottom: 1px solid gray;flex-grow: 1;}#sk-container-id-7 div.sk-label:hover label.sk-toggleable__label {background-color: #d4ebff;}#sk-container-id-7 div.sk-serial::before {content: \"\";position: absolute;border-left: 1px solid gray;box-sizing: border-box;top: 0;bottom: 0;left: 50%;z-index: 0;}#sk-container-id-7 div.sk-serial {display: flex;flex-direction: column;align-items: center;background-color: white;padding-right: 0.2em;padding-left: 0.2em;position: relative;}#sk-container-id-7 div.sk-item {position: relative;z-index: 1;}#sk-container-id-7 div.sk-parallel {display: flex;align-items: stretch;justify-content: center;background-color: white;position: relative;}#sk-container-id-7 div.sk-item::before, #sk-container-id-7 div.sk-parallel-item::before {content: \"\";position: absolute;border-left: 1px solid gray;box-sizing: border-box;top: 0;bottom: 0;left: 50%;z-index: -1;}#sk-container-id-7 div.sk-parallel-item {display: flex;flex-direction: column;z-index: 1;position: relative;background-color: white;}#sk-container-id-7 div.sk-parallel-item:first-child::after {align-self: flex-end;width: 50%;}#sk-container-id-7 div.sk-parallel-item:last-child::after {align-self: flex-start;width: 50%;}#sk-container-id-7 div.sk-parallel-item:only-child::after {width: 0;}#sk-container-id-7 div.sk-dashed-wrapped {border: 1px dashed gray;margin: 0 0.4em 0.5em 0.4em;box-sizing: border-box;padding-bottom: 0.4em;background-color: white;}#sk-container-id-7 div.sk-label label {font-family: monospace;font-weight: bold;display: inline-block;line-height: 1.2em;}#sk-container-id-7 div.sk-label-container {text-align: center;}#sk-container-id-7 div.sk-container {/* jupyter's `normalize.less` sets `[hidden] { display: none; }` but bootstrap.min.css set `[hidden] { display: none !important; }` so we also need the `!important` here to be able to override the default hidden behavior on the sphinx rendered scikit-learn.org. See: https://github.com/scikit-learn/scikit-learn/issues/21755 */display: inline-block !important;position: relative;}#sk-container-id-7 div.sk-text-repr-fallback {display: none;}</style><div id=\"sk-container-id-7\" class=\"sk-top-container\"><div class=\"sk-text-repr-fallback\"><pre>RandomForestClassifier(class_weight={0: 1, 1: 8.0}, criterion=&#x27;entropy&#x27;,\n",
       "                       max_depth=12, min_samples_leaf=50, min_samples_split=150,\n",
       "                       random_state=42)</pre><b>In a Jupyter environment, please rerun this cell to show the HTML representation or trust the notebook. <br />On GitHub, the HTML representation is unable to render, please try loading this page with nbviewer.org.</b></div><div class=\"sk-container\" hidden><div class=\"sk-item\"><div class=\"sk-estimator sk-toggleable\"><input class=\"sk-toggleable__control sk-hidden--visually\" id=\"sk-estimator-id-7\" type=\"checkbox\" checked><label for=\"sk-estimator-id-7\" class=\"sk-toggleable__label sk-toggleable__label-arrow\">RandomForestClassifier</label><div class=\"sk-toggleable__content\"><pre>RandomForestClassifier(class_weight={0: 1, 1: 8.0}, criterion=&#x27;entropy&#x27;,\n",
       "                       max_depth=12, min_samples_leaf=50, min_samples_split=150,\n",
       "                       random_state=42)</pre></div></div></div></div></div>"
      ],
      "text/plain": [
       "RandomForestClassifier(class_weight={0: 1, 1: 8.0}, criterion='entropy',\n",
       "                       max_depth=12, min_samples_leaf=50, min_samples_split=150,\n",
       "                       random_state=42)"
      ]
     },
     "execution_count": 117,
     "metadata": {},
     "output_type": "execute_result"
    }
   ],
   "source": [
    "\n",
    "\n",
    "# Kreiranje finalnog modela sa najboljim hiperparametrima\n",
    "rf_model = RandomForestClassifier(min_samples_split= 150,min_samples_leaf= 50, max_depth= 12,criterion= 'entropy',\n",
    "                                 class_weight= {0: 1, 1: 8.0}, random_state=42)\n",
    "# Treniranje modela na celokupnom trening skupu\n",
    "rf_model.fit(X_train, train_y)\n"
   ]
  },
  {
   "cell_type": "code",
   "execution_count": null,
   "id": "0e1e87c8",
   "metadata": {},
   "outputs": [],
   "source": []
  },
  {
   "cell_type": "code",
   "execution_count": 119,
   "id": "7bb70f5b",
   "metadata": {},
   "outputs": [
    {
     "name": "stdout",
     "output_type": "stream",
     "text": [
      "Random Forest Accuracy on validation set: 0.6154\n",
      "Random Forest Precision on validation set: 0.1895\n",
      "Random Forest Recall on validation set: 0.6564\n",
      "Random Forest AUC on validation set: 0.6844\n",
      "Random Forest F1-Score on validation set: 0.2941\n"
     ]
    }
   ],
   "source": [
    "from sklearn.metrics import accuracy_score, precision_score, recall_score, roc_auc_score, f1_score\n",
    "\n",
    "# Predikcija na validacionom skupu\n",
    "y_valid_pred_rf = rf_model.predict(valid_x)\n",
    "y_valid_pred_proba_rf = rf_model.predict_proba(valid_x)[:, 1]\n",
    "\n",
    "# Evaluacija performansi modela na validacionom skupu\n",
    "accuracy_valid = accuracy_score(valid_y, y_valid_pred_rf)\n",
    "precision_valid = precision_score(valid_y, y_valid_pred_rf)\n",
    "recall_valid = recall_score(valid_y, y_valid_pred_rf)\n",
    "roc_auc_valid = roc_auc_score(valid_y, y_valid_pred_proba_rf)\n",
    "f1_valid = f1_score(valid_y, y_valid_pred_rf)\n",
    "\n",
    "# Prikaz rezultata\n",
    "print(f\"Random Forest Accuracy on validation set: {accuracy_valid:.4f}\")\n",
    "print(f\"Random Forest Precision on validation set: {precision_valid:.4f}\")\n",
    "print(f\"Random Forest Recall on validation set: {recall_valid:.4f}\")\n",
    "print(f\"Random Forest AUC on validation set: {roc_auc_valid:.4f}\")\n",
    "print(f\"Random Forest F1-Score on validation set: {f1_valid:.4f}\")\n"
   ]
  },
  {
   "cell_type": "code",
   "execution_count": 123,
   "id": "5096f9e6",
   "metadata": {},
   "outputs": [
    {
     "data": {
      "text/html": [
       "<style>#sk-container-id-8 {color: black;background-color: white;}#sk-container-id-8 pre{padding: 0;}#sk-container-id-8 div.sk-toggleable {background-color: white;}#sk-container-id-8 label.sk-toggleable__label {cursor: pointer;display: block;width: 100%;margin-bottom: 0;padding: 0.3em;box-sizing: border-box;text-align: center;}#sk-container-id-8 label.sk-toggleable__label-arrow:before {content: \"▸\";float: left;margin-right: 0.25em;color: #696969;}#sk-container-id-8 label.sk-toggleable__label-arrow:hover:before {color: black;}#sk-container-id-8 div.sk-estimator:hover label.sk-toggleable__label-arrow:before {color: black;}#sk-container-id-8 div.sk-toggleable__content {max-height: 0;max-width: 0;overflow: hidden;text-align: left;background-color: #f0f8ff;}#sk-container-id-8 div.sk-toggleable__content pre {margin: 0.2em;color: black;border-radius: 0.25em;background-color: #f0f8ff;}#sk-container-id-8 input.sk-toggleable__control:checked~div.sk-toggleable__content {max-height: 200px;max-width: 100%;overflow: auto;}#sk-container-id-8 input.sk-toggleable__control:checked~label.sk-toggleable__label-arrow:before {content: \"▾\";}#sk-container-id-8 div.sk-estimator input.sk-toggleable__control:checked~label.sk-toggleable__label {background-color: #d4ebff;}#sk-container-id-8 div.sk-label input.sk-toggleable__control:checked~label.sk-toggleable__label {background-color: #d4ebff;}#sk-container-id-8 input.sk-hidden--visually {border: 0;clip: rect(1px 1px 1px 1px);clip: rect(1px, 1px, 1px, 1px);height: 1px;margin: -1px;overflow: hidden;padding: 0;position: absolute;width: 1px;}#sk-container-id-8 div.sk-estimator {font-family: monospace;background-color: #f0f8ff;border: 1px dotted black;border-radius: 0.25em;box-sizing: border-box;margin-bottom: 0.5em;}#sk-container-id-8 div.sk-estimator:hover {background-color: #d4ebff;}#sk-container-id-8 div.sk-parallel-item::after {content: \"\";width: 100%;border-bottom: 1px solid gray;flex-grow: 1;}#sk-container-id-8 div.sk-label:hover label.sk-toggleable__label {background-color: #d4ebff;}#sk-container-id-8 div.sk-serial::before {content: \"\";position: absolute;border-left: 1px solid gray;box-sizing: border-box;top: 0;bottom: 0;left: 50%;z-index: 0;}#sk-container-id-8 div.sk-serial {display: flex;flex-direction: column;align-items: center;background-color: white;padding-right: 0.2em;padding-left: 0.2em;position: relative;}#sk-container-id-8 div.sk-item {position: relative;z-index: 1;}#sk-container-id-8 div.sk-parallel {display: flex;align-items: stretch;justify-content: center;background-color: white;position: relative;}#sk-container-id-8 div.sk-item::before, #sk-container-id-8 div.sk-parallel-item::before {content: \"\";position: absolute;border-left: 1px solid gray;box-sizing: border-box;top: 0;bottom: 0;left: 50%;z-index: -1;}#sk-container-id-8 div.sk-parallel-item {display: flex;flex-direction: column;z-index: 1;position: relative;background-color: white;}#sk-container-id-8 div.sk-parallel-item:first-child::after {align-self: flex-end;width: 50%;}#sk-container-id-8 div.sk-parallel-item:last-child::after {align-self: flex-start;width: 50%;}#sk-container-id-8 div.sk-parallel-item:only-child::after {width: 0;}#sk-container-id-8 div.sk-dashed-wrapped {border: 1px dashed gray;margin: 0 0.4em 0.5em 0.4em;box-sizing: border-box;padding-bottom: 0.4em;background-color: white;}#sk-container-id-8 div.sk-label label {font-family: monospace;font-weight: bold;display: inline-block;line-height: 1.2em;}#sk-container-id-8 div.sk-label-container {text-align: center;}#sk-container-id-8 div.sk-container {/* jupyter's `normalize.less` sets `[hidden] { display: none; }` but bootstrap.min.css set `[hidden] { display: none !important; }` so we also need the `!important` here to be able to override the default hidden behavior on the sphinx rendered scikit-learn.org. See: https://github.com/scikit-learn/scikit-learn/issues/21755 */display: inline-block !important;position: relative;}#sk-container-id-8 div.sk-text-repr-fallback {display: none;}</style><div id=\"sk-container-id-8\" class=\"sk-top-container\"><div class=\"sk-text-repr-fallback\"><pre>RandomForestClassifier(class_weight={0: 1, 1: 7.5}, criterion=&#x27;entropy&#x27;,\n",
       "                       max_depth=15, min_samples_leaf=30, min_samples_split=175,\n",
       "                       random_state=42)</pre><b>In a Jupyter environment, please rerun this cell to show the HTML representation or trust the notebook. <br />On GitHub, the HTML representation is unable to render, please try loading this page with nbviewer.org.</b></div><div class=\"sk-container\" hidden><div class=\"sk-item\"><div class=\"sk-estimator sk-toggleable\"><input class=\"sk-toggleable__control sk-hidden--visually\" id=\"sk-estimator-id-8\" type=\"checkbox\" checked><label for=\"sk-estimator-id-8\" class=\"sk-toggleable__label sk-toggleable__label-arrow\">RandomForestClassifier</label><div class=\"sk-toggleable__content\"><pre>RandomForestClassifier(class_weight={0: 1, 1: 7.5}, criterion=&#x27;entropy&#x27;,\n",
       "                       max_depth=15, min_samples_leaf=30, min_samples_split=175,\n",
       "                       random_state=42)</pre></div></div></div></div></div>"
      ],
      "text/plain": [
       "RandomForestClassifier(class_weight={0: 1, 1: 7.5}, criterion='entropy',\n",
       "                       max_depth=15, min_samples_leaf=30, min_samples_split=175,\n",
       "                       random_state=42)"
      ]
     },
     "execution_count": 123,
     "metadata": {},
     "output_type": "execute_result"
    }
   ],
   "source": [
    "# Druga iteracija podesavanja hiperparametara\n",
    "\n",
    "rf2_model = RandomForestClassifier(min_samples_split= 175,min_samples_leaf= 30, max_depth= 15,criterion= 'entropy',\n",
    "                                 class_weight= {0: 1, 1: 7.5}, random_state=42)\n",
    "# Treniranje modela na celokupnom trening skupu\n",
    "rf2_model.fit(X_train, train_y)\n"
   ]
  },
  {
   "cell_type": "markdown",
   "id": "bcfe40fc",
   "metadata": {},
   "source": [
    "{'class_weight': {0: 1, 1: 7.5}, 'criterion': 'entropy', 'max_depth': 15, 'min_samples_leaf': 30, 'min_samples_split': 175}"
   ]
  },
  {
   "cell_type": "code",
   "execution_count": 139,
   "id": "c9084865",
   "metadata": {},
   "outputs": [
    {
     "name": "stdout",
     "output_type": "stream",
     "text": [
      "Random Forest Accuracy on validation set: 0.6518\n",
      "Random Forest Precision on validation set: 0.1961\n",
      "Random Forest Recall on validation set: 0.5981\n",
      "Random Forest AUC on validation set: 0.6844\n",
      "Random Forest F1-Score on validation set: 0.2954\n"
     ]
    }
   ],
   "source": [
    "# Predikcija na validacionom skupu ; druga iteracija\n",
    "y_valid_pred_rf2 = rf2_model.predict(valid_x)\n",
    "y_valid_pred_proba_rf2 = rf2_model.predict_proba(valid_x)[:, 1]\n",
    "\n",
    "# Evaluacija performansi modela na validacionom skupu\n",
    "accuracy_valid = accuracy_score(valid_y, y_valid_pred_rf2)\n",
    "precision_valid = precision_score(valid_y, y_valid_pred_rf2)\n",
    "recall_valid = recall_score(valid_y, y_valid_pred_rf2)\n",
    "roc_auc_valid = roc_auc_score(valid_y, y_valid_pred_proba_rf2)\n",
    "f1_valid = f1_score(valid_y, y_valid_pred_rf2)\n",
    "\n",
    "# Prikaz rezultata\n",
    "print(f\"Random Forest Accuracy on validation set: {accuracy_valid:.4f}\")\n",
    "print(f\"Random Forest Precision on validation set: {precision_valid:.4f}\")\n",
    "print(f\"Random Forest Recall on validation set: {recall_valid:.4f}\")\n",
    "print(f\"Random Forest AUC on validation set: {roc_auc_valid:.4f}\")\n",
    "print(f\"Random Forest F1-Score on validation set: {f1_valid:.4f}\")"
   ]
  },
  {
   "cell_type": "markdown",
   "id": "94906d3b",
   "metadata": {},
   "source": [
    "Prva iteracija hiperparametara\n",
    "Random Forest Accuracy on validation set: 0.6154\n",
    "Random Forest Precision on validation set: 0.1895\n",
    "Random Forest Recall on validation set: 0.6564\n",
    "Random Forest AUC on validation set: 0.6844\n",
    "Random Forest F1-Score on validation set: 0.2941"
   ]
  },
  {
   "cell_type": "code",
   "execution_count": 125,
   "id": "4204ba92",
   "metadata": {},
   "outputs": [
    {
     "data": {
      "text/html": [
       "<style>#sk-container-id-9 {color: black;background-color: white;}#sk-container-id-9 pre{padding: 0;}#sk-container-id-9 div.sk-toggleable {background-color: white;}#sk-container-id-9 label.sk-toggleable__label {cursor: pointer;display: block;width: 100%;margin-bottom: 0;padding: 0.3em;box-sizing: border-box;text-align: center;}#sk-container-id-9 label.sk-toggleable__label-arrow:before {content: \"▸\";float: left;margin-right: 0.25em;color: #696969;}#sk-container-id-9 label.sk-toggleable__label-arrow:hover:before {color: black;}#sk-container-id-9 div.sk-estimator:hover label.sk-toggleable__label-arrow:before {color: black;}#sk-container-id-9 div.sk-toggleable__content {max-height: 0;max-width: 0;overflow: hidden;text-align: left;background-color: #f0f8ff;}#sk-container-id-9 div.sk-toggleable__content pre {margin: 0.2em;color: black;border-radius: 0.25em;background-color: #f0f8ff;}#sk-container-id-9 input.sk-toggleable__control:checked~div.sk-toggleable__content {max-height: 200px;max-width: 100%;overflow: auto;}#sk-container-id-9 input.sk-toggleable__control:checked~label.sk-toggleable__label-arrow:before {content: \"▾\";}#sk-container-id-9 div.sk-estimator input.sk-toggleable__control:checked~label.sk-toggleable__label {background-color: #d4ebff;}#sk-container-id-9 div.sk-label input.sk-toggleable__control:checked~label.sk-toggleable__label {background-color: #d4ebff;}#sk-container-id-9 input.sk-hidden--visually {border: 0;clip: rect(1px 1px 1px 1px);clip: rect(1px, 1px, 1px, 1px);height: 1px;margin: -1px;overflow: hidden;padding: 0;position: absolute;width: 1px;}#sk-container-id-9 div.sk-estimator {font-family: monospace;background-color: #f0f8ff;border: 1px dotted black;border-radius: 0.25em;box-sizing: border-box;margin-bottom: 0.5em;}#sk-container-id-9 div.sk-estimator:hover {background-color: #d4ebff;}#sk-container-id-9 div.sk-parallel-item::after {content: \"\";width: 100%;border-bottom: 1px solid gray;flex-grow: 1;}#sk-container-id-9 div.sk-label:hover label.sk-toggleable__label {background-color: #d4ebff;}#sk-container-id-9 div.sk-serial::before {content: \"\";position: absolute;border-left: 1px solid gray;box-sizing: border-box;top: 0;bottom: 0;left: 50%;z-index: 0;}#sk-container-id-9 div.sk-serial {display: flex;flex-direction: column;align-items: center;background-color: white;padding-right: 0.2em;padding-left: 0.2em;position: relative;}#sk-container-id-9 div.sk-item {position: relative;z-index: 1;}#sk-container-id-9 div.sk-parallel {display: flex;align-items: stretch;justify-content: center;background-color: white;position: relative;}#sk-container-id-9 div.sk-item::before, #sk-container-id-9 div.sk-parallel-item::before {content: \"\";position: absolute;border-left: 1px solid gray;box-sizing: border-box;top: 0;bottom: 0;left: 50%;z-index: -1;}#sk-container-id-9 div.sk-parallel-item {display: flex;flex-direction: column;z-index: 1;position: relative;background-color: white;}#sk-container-id-9 div.sk-parallel-item:first-child::after {align-self: flex-end;width: 50%;}#sk-container-id-9 div.sk-parallel-item:last-child::after {align-self: flex-start;width: 50%;}#sk-container-id-9 div.sk-parallel-item:only-child::after {width: 0;}#sk-container-id-9 div.sk-dashed-wrapped {border: 1px dashed gray;margin: 0 0.4em 0.5em 0.4em;box-sizing: border-box;padding-bottom: 0.4em;background-color: white;}#sk-container-id-9 div.sk-label label {font-family: monospace;font-weight: bold;display: inline-block;line-height: 1.2em;}#sk-container-id-9 div.sk-label-container {text-align: center;}#sk-container-id-9 div.sk-container {/* jupyter's `normalize.less` sets `[hidden] { display: none; }` but bootstrap.min.css set `[hidden] { display: none !important; }` so we also need the `!important` here to be able to override the default hidden behavior on the sphinx rendered scikit-learn.org. See: https://github.com/scikit-learn/scikit-learn/issues/21755 */display: inline-block !important;position: relative;}#sk-container-id-9 div.sk-text-repr-fallback {display: none;}</style><div id=\"sk-container-id-9\" class=\"sk-top-container\"><div class=\"sk-text-repr-fallback\"><pre>RandomForestClassifier(class_weight={0: 1, 1: 8.13}, criterion=&#x27;entropy&#x27;,\n",
       "                       max_depth=15, min_samples_leaf=30, min_samples_split=175,\n",
       "                       random_state=42)</pre><b>In a Jupyter environment, please rerun this cell to show the HTML representation or trust the notebook. <br />On GitHub, the HTML representation is unable to render, please try loading this page with nbviewer.org.</b></div><div class=\"sk-container\" hidden><div class=\"sk-item\"><div class=\"sk-estimator sk-toggleable\"><input class=\"sk-toggleable__control sk-hidden--visually\" id=\"sk-estimator-id-9\" type=\"checkbox\" checked><label for=\"sk-estimator-id-9\" class=\"sk-toggleable__label sk-toggleable__label-arrow\">RandomForestClassifier</label><div class=\"sk-toggleable__content\"><pre>RandomForestClassifier(class_weight={0: 1, 1: 8.13}, criterion=&#x27;entropy&#x27;,\n",
       "                       max_depth=15, min_samples_leaf=30, min_samples_split=175,\n",
       "                       random_state=42)</pre></div></div></div></div></div>"
      ],
      "text/plain": [
       "RandomForestClassifier(class_weight={0: 1, 1: 8.13}, criterion='entropy',\n",
       "                       max_depth=15, min_samples_leaf=30, min_samples_split=175,\n",
       "                       random_state=42)"
      ]
     },
     "execution_count": 125,
     "metadata": {},
     "output_type": "execute_result"
    }
   ],
   "source": [
    "# Treca iteracija podesavanja hiperparametara\n",
    "\n",
    "rf3_model = RandomForestClassifier(min_samples_split= 175,min_samples_leaf= 30, max_depth= 15,criterion= 'entropy',\n",
    "                                 class_weight= {0: 1, 1: 8.13}, random_state=42)\n",
    "# Treniranje modela na celokupnom trening skupu\n",
    "rf3_model.fit(X_train, train_y)"
   ]
  },
  {
   "cell_type": "code",
   "execution_count": 126,
   "id": "ea854a47",
   "metadata": {},
   "outputs": [
    {
     "name": "stdout",
     "output_type": "stream",
     "text": [
      "Random Forest Accuracy on validation set: 0.6210\n",
      "Random Forest Precision on validation set: 0.1894\n",
      "Random Forest Recall on validation set: 0.6422\n",
      "Random Forest AUC on validation set: 0.6832\n",
      "Random Forest F1-Score on validation set: 0.2926\n"
     ]
    }
   ],
   "source": [
    "# Predikcija na validacionom skupu ; druga iteracija\n",
    "y_valid_pred_rf = rf3_model.predict(valid_x)\n",
    "y_valid_pred_proba_rf = rf3_model.predict_proba(valid_x)[:, 1]\n",
    "\n",
    "# Evaluacija performansi modela na validacionom skupu\n",
    "accuracy_valid = accuracy_score(valid_y, y_valid_pred_rf)\n",
    "precision_valid = precision_score(valid_y, y_valid_pred_rf)\n",
    "recall_valid = recall_score(valid_y, y_valid_pred_rf)\n",
    "roc_auc_valid = roc_auc_score(valid_y, y_valid_pred_proba_rf)\n",
    "f1_valid = f1_score(valid_y, y_valid_pred_rf)\n",
    "\n",
    "# Prikaz rezultata\n",
    "print(f\"Random Forest Accuracy on validation set: {accuracy_valid:.4f}\")\n",
    "print(f\"Random Forest Precision on validation set: {precision_valid:.4f}\")\n",
    "print(f\"Random Forest Recall on validation set: {recall_valid:.4f}\")\n",
    "print(f\"Random Forest AUC on validation set: {roc_auc_valid:.4f}\")\n",
    "print(f\"Random Forest F1-Score on validation set: {f1_valid:.4f}\")"
   ]
  },
  {
   "cell_type": "markdown",
   "id": "e029bca0",
   "metadata": {},
   "source": [
    "### Najbolji random forest je model rf2_model"
   ]
  },
  {
   "cell_type": "code",
   "execution_count": 140,
   "id": "81526fff",
   "metadata": {},
   "outputs": [
    {
     "name": "stdout",
     "output_type": "stream",
     "text": [
      "Classification Report:\n",
      "              precision    recall  f1-score   support\n",
      "\n",
      "           0       0.92      0.66      0.77      9611\n",
      "           1       0.20      0.60      0.30      1336\n",
      "\n",
      "    accuracy                           0.65     10947\n",
      "   macro avg       0.56      0.63      0.53     10947\n",
      "weighted avg       0.83      0.65      0.71     10947\n",
      "\n"
     ]
    }
   ],
   "source": [
    "from sklearn.metrics import classification_report, roc_curve, confusion_matrix\n",
    "\n",
    "# Classification report\n",
    "print(\"Classification Report:\")\n",
    "print(classification_report(valid_y, y_valid_pred_rf2))\n"
   ]
  },
  {
   "cell_type": "code",
   "execution_count": 141,
   "id": "4c9896c4",
   "metadata": {},
   "outputs": [
    {
     "data": {
      "image/png": "[encoded data removed]",
      "text/plain": [
       "<Figure size 640x480 with 1 Axes>"
      ]
     },
     "metadata": {},
     "output_type": "display_data"
    }
   ],
   "source": [
    "import matplotlib.pyplot as plt\n",
    "from sklearn.metrics import roc_curve, auc\n",
    "\n",
    "# Izračunavanje ROC krive\n",
    "fpr, tpr, thresholds = roc_curve(valid_y, y_valid_pred_proba_rf2)\n",
    "roc_auc = auc(fpr, tpr)\n",
    "\n",
    "# Nacrtaj ROC krivu\n",
    "plt.figure()\n",
    "plt.plot(fpr, tpr, color='pink', lw=2, label=f'ROC curve (area = {roc_auc:.4f})')\n",
    "plt.plot([0, 1], [0, 1], color='lightblue', lw=2, linestyle='--')\n",
    "plt.xlim([0.0, 1.0])\n",
    "plt.ylim([0.0, 1.05])\n",
    "plt.xlabel('False Positive Rate')\n",
    "plt.ylabel('True Positive Rate')\n",
    "plt.title('Receiver Operating Characteristic')\n",
    "plt.legend(loc=\"lower right\")\n",
    "plt.show()\n"
   ]
  },
  {
   "cell_type": "code",
   "execution_count": 142,
   "id": "da77c3a8",
   "metadata": {},
   "outputs": [
    {
     "name": "stdout",
     "output_type": "stream",
     "text": [
      "Najbolji prag odluke po Judenovoj metodi: 0.4753\n"
     ]
    }
   ],
   "source": [
    "# Izračunavanje Youdenovog indeksa\n",
    "youden_index = tpr - fpr\n",
    "best_threshold_index = youden_index.argmax()\n",
    "best_threshold = thresholds[best_threshold_index]\n",
    "\n",
    "print(f\"Najbolji prag odluke po Judenovoj metodi: {best_threshold:.4f}\")\n"
   ]
  },
  {
   "cell_type": "code",
   "execution_count": 143,
   "id": "08351a7a",
   "metadata": {},
   "outputs": [
    {
     "name": "stdout",
     "output_type": "stream",
     "text": [
      "Matrica konfuzije sa pragom odluke od 0.4753:\n",
      "[[5834 3777]\n",
      " [ 452  884]]\n"
     ]
    }
   ],
   "source": [
    "from sklearn.metrics import confusion_matrix\n",
    "\n",
    "# Predikcija sa optimalnim threshold-om\n",
    "y_valid_pred_optimal = (y_valid_pred_proba_rf2 >= 0.4753).astype(int)\n",
    "\n",
    "# Matrica konfuzije za optimalni threshold\n",
    "conf_matrix_optimal = confusion_matrix(valid_y, y_valid_pred_optimal)\n",
    "print(\"Matrica konfuzije sa pragom odluke od 0.4753:\")\n",
    "print(conf_matrix_optimal)\n"
   ]
  },
  {
   "cell_type": "code",
   "execution_count": 144,
   "id": "5fa4814f",
   "metadata": {},
   "outputs": [
    {
     "name": "stdout",
     "output_type": "stream",
     "text": [
      "Matrica konfuzije sa pragom od 0.5:\n",
      "[[6336 3275]\n",
      " [ 537  799]]\n"
     ]
    }
   ],
   "source": [
    "\n",
    "conf_matrix_default = confusion_matrix(valid_y, y_valid_pred_rf2)\n",
    "print(\"Matrica konfuzije sa pragom od 0.5:\")\n",
    "print(conf_matrix_default)\n"
   ]
  },
  {
   "cell_type": "code",
   "execution_count": 145,
   "id": "915823ab",
   "metadata": {},
   "outputs": [],
   "source": [
    "def calculate_economic_income(y_true, y_pred_proba, threshold):\n",
    "    # Primenjujemo threshold\n",
    "    y_pred = (y_pred_proba >= threshold).astype(int)\n",
    "    \n",
    "    # Definišemo TP, TN, FP, FN\n",
    "    TP = np.sum((y_true == 1) & (y_pred == 1))\n",
    "    TN = np.sum((y_true == 0) & (y_pred == 0))\n",
    "    FP = np.sum((y_true == 0) & (y_pred == 1))\n",
    "    FN = np.sum((y_true == 1) & (y_pred == 0))\n",
    "    \n",
    "    # Izračunavanje ekonomskog prihoda prema matrici sa slike\n",
    "    economic_income = (TP * 0) + (TN * 3100) + (FP * -3100) + (FN * -6300)\n",
    "    \n",
    "    return economic_income"
   ]
  },
  {
   "cell_type": "code",
   "execution_count": 146,
   "id": "1e2e6837",
   "metadata": {},
   "outputs": [],
   "source": [
    "def find_optimal_threshold(y_true, y_pred_proba):\n",
    "    # Izračunavanje ROC krive\n",
    "    fpr, tpr, thresholds = roc_curve(y_true, y_pred_proba)\n",
    "    \n",
    "    # Računamo ekonomski prihod za svaki threshold\n",
    "    economic_incomes = [calculate_economic_income(y_true, y_pred_proba, t) for t in thresholds]\n",
    "    \n",
    "    # Nalazimo threshold koji maksimizuje ekonomski prihod\n",
    "    best_index = np.argmax(economic_incomes)\n",
    "    best_threshold = thresholds[best_index]\n",
    "    best_income = economic_incomes[best_index]\n",
    "    \n",
    "    return best_threshold, best_income, economic_incomes, thresholds"
   ]
  },
  {
   "cell_type": "code",
   "execution_count": 147,
   "id": "3e76b287",
   "metadata": {},
   "outputs": [
    {
     "name": "stdout",
     "output_type": "stream",
     "text": [
      "Optimal Threshold: 0.8455\n",
      "Max Economic Income: 21390300.00\n"
     ]
    }
   ],
   "source": [
    "best_threshold, best_income, economic_incomes, thresholds = find_optimal_threshold(valid_y, y_valid_pred_proba_rf2)\n",
    "\n",
    "print(f\"Optimal Threshold: {best_threshold:.4f}\")\n",
    "print(f\"Max Economic Income: {best_income:.2f}\")"
   ]
  },
  {
   "cell_type": "code",
   "execution_count": 148,
   "id": "19abdd40",
   "metadata": {},
   "outputs": [
    {
     "name": "stdout",
     "output_type": "stream",
     "text": [
      "Matrica konfuzije sa pragom odluke od 0.8455:\n",
      "[[5834 3777]\n",
      " [ 452  884]]\n"
     ]
    }
   ],
   "source": [
    "# Predikcija sa optimalnim threshold-om\n",
    "y_valid_pred_optimal_money = (y_valid_pred_proba_rf2 >= 0.8455).astype(int)\n",
    "\n",
    "# Matrica konfuzije za optimalni threshold\n",
    "conf_matrix_optimal_money = confusion_matrix(valid_y, y_valid_pred_optimal_money)\n",
    "print(\"Matrica konfuzije sa pragom odluke od 0.8455:\")\n",
    "print(conf_matrix_optimal)\n"
   ]
  },
  {
   "cell_type": "code",
   "execution_count": 151,
   "id": "2a3928db",
   "metadata": {},
   "outputs": [
    {
     "data": {
      "text/plain": [
       "21384000"
      ]
     },
     "execution_count": 151,
     "metadata": {},
     "output_type": "execute_result"
    }
   ],
   "source": [
    "calculate_economic_income(valid_y, y_valid_pred_proba_rf2, 0.84546)"
   ]
  },
  {
   "cell_type": "code",
   "execution_count": 152,
   "id": "ea75d53b",
   "metadata": {},
   "outputs": [
    {
     "data": {
      "text/plain": [
       "21377300"
      ]
     },
     "execution_count": 152,
     "metadata": {},
     "output_type": "execute_result"
    }
   ],
   "source": [
    "calculate_economic_income(valid_y, y_valid_pred_proba_rf2, 1)"
   ]
  },
  {
   "cell_type": "markdown",
   "id": "6882a71e",
   "metadata": {},
   "source": [
    "## XGBOOST"
   ]
  },
  {
   "cell_type": "code",
   "execution_count": 155,
   "id": "c6aa674f",
   "metadata": {},
   "outputs": [
    {
     "name": "stderr",
     "output_type": "stream",
     "text": [
      "C:\\Users\\Milutin\\anaconda3\\Lib\\site-packages\\xgboost\\core.py:158: UserWarning: [17:18:30] WARNING: C:\\buildkite-agent\\builds\\buildkite-windows-cpu-autoscaling-group-i-0015a694724fa8361-1\\xgboost\\xgboost-ci-windows\\src\\learner.cc:740: \n",
      "Parameters: { \"use_label_encoder\" } are not used.\n",
      "\n",
      "  warnings.warn(smsg, UserWarning)\n",
      "C:\\Users\\Milutin\\anaconda3\\Lib\\site-packages\\xgboost\\core.py:158: UserWarning: [17:18:31] WARNING: C:\\buildkite-agent\\builds\\buildkite-windows-cpu-autoscaling-group-i-0015a694724fa8361-1\\xgboost\\xgboost-ci-windows\\src\\learner.cc:740: \n",
      "Parameters: { \"use_label_encoder\" } are not used.\n",
      "\n",
      "  warnings.warn(smsg, UserWarning)\n",
      "C:\\Users\\Milutin\\anaconda3\\Lib\\site-packages\\xgboost\\core.py:158: UserWarning: [17:18:31] WARNING: C:\\buildkite-agent\\builds\\buildkite-windows-cpu-autoscaling-group-i-0015a694724fa8361-1\\xgboost\\xgboost-ci-windows\\src\\learner.cc:740: \n",
      "Parameters: { \"use_label_encoder\" } are not used.\n",
      "\n",
      "  warnings.warn(smsg, UserWarning)\n",
      "C:\\Users\\Milutin\\anaconda3\\Lib\\site-packages\\xgboost\\core.py:158: UserWarning: [17:18:32] WARNING: C:\\buildkite-agent\\builds\\buildkite-windows-cpu-autoscaling-group-i-0015a694724fa8361-1\\xgboost\\xgboost-ci-windows\\src\\learner.cc:740: \n",
      "Parameters: { \"use_label_encoder\" } are not used.\n",
      "\n",
      "  warnings.warn(smsg, UserWarning)\n",
      "C:\\Users\\Milutin\\anaconda3\\Lib\\site-packages\\xgboost\\core.py:158: UserWarning: [17:18:32] WARNING: C:\\buildkite-agent\\builds\\buildkite-windows-cpu-autoscaling-group-i-0015a694724fa8361-1\\xgboost\\xgboost-ci-windows\\src\\learner.cc:740: \n",
      "Parameters: { \"use_label_encoder\" } are not used.\n",
      "\n",
      "  warnings.warn(smsg, UserWarning)\n"
     ]
    },
    {
     "name": "stdout",
     "output_type": "stream",
     "text": [
      "Cross-validation AUC scores: [0.63960797 0.64625634 0.64388347 0.64155526 0.64833925]\n",
      "Mean AUC score: 0.6439\n",
      "Standard Deviation of AUC scores: 0.0031\n"
     ]
    }
   ],
   "source": [
    "from xgboost import XGBClassifier\n",
    "from sklearn.model_selection import cross_val_score, StratifiedKFold\n",
    "\n",
    "# Kreiranje XGBoost modela\n",
    "xgb_model = XGBClassifier(\n",
    "    scale_pos_weight=7,  # Parametar za balansiranje klasa, možeš ga prilagoditi\n",
    "    random_state=42,\n",
    "    use_label_encoder=False,\n",
    "    eval_metric='logloss'\n",
    ")\n",
    "\n",
    "# Definisanje StratifiedKFold cross-validation-a sa 5 podela\n",
    "skf = StratifiedKFold(n_splits=5, shuffle=True, random_state=42)\n",
    "\n",
    "# Izvršavanje cross-validation-a\n",
    "cv_scores = cross_val_score(xgb_model, X_train_selected, train_y, cv=skf, scoring='roc_auc')\n",
    "\n",
    "# Prikaz rezultata cross-validation-a\n",
    "print(f\"Cross-validation AUC scores: {cv_scores}\")\n",
    "print(f\"Mean AUC score: {cv_scores.mean():.4f}\")\n",
    "print(f\"Standard Deviation of AUC scores: {cv_scores.std():.4f}\")\n"
   ]
  },
  {
   "cell_type": "code",
   "execution_count": 158,
   "id": "336a768d",
   "metadata": {},
   "outputs": [
    {
     "name": "stdout",
     "output_type": "stream",
     "text": [
      "Fitting 4 folds for each of 24 candidates, totalling 96 fits\n"
     ]
    },
    {
     "name": "stderr",
     "output_type": "stream",
     "text": [
      "C:\\Users\\Milutin\\anaconda3\\Lib\\site-packages\\xgboost\\core.py:158: UserWarning: [17:26:39] WARNING: C:\\buildkite-agent\\builds\\buildkite-windows-cpu-autoscaling-group-i-0015a694724fa8361-1\\xgboost\\xgboost-ci-windows\\src\\learner.cc:740: \n",
      "Parameters: { \"use_label_encoder\" } are not used.\n",
      "\n",
      "  warnings.warn(smsg, UserWarning)\n"
     ]
    },
    {
     "name": "stdout",
     "output_type": "stream",
     "text": [
      "Best Hyperparameters for XGBoost: {'colsample_bytree': 0.7, 'gamma': 0.05, 'learning_rate': 0.01, 'max_depth': 7, 'min_child_weight': 5, 'scale_pos_weight': 7, 'subsample': 0.7}\n",
      "Best AUC score: 0.6870\n"
     ]
    }
   ],
   "source": [
    "from xgboost import XGBClassifier\n",
    "from sklearn.model_selection import GridSearchCV\n",
    "\n",
    "# Definišemo XGBoost model\n",
    "xgb_model = XGBClassifier(use_label_encoder=False, eval_metric='logloss', random_state=42)\n",
    "\n",
    "# Definišemo mrežu hiperparametara za pretragu\n",
    "param_grid = {\n",
    "   \n",
    "    'max_depth': [ 7,10,15],\n",
    "    'learning_rate': [0.01, 0.05],\n",
    "    'subsample': [0.7],\n",
    "    'colsample_bytree': [0.7],\n",
    "    'gamma': [ 0.1, 0.05],\n",
    "    'scale_pos_weight': [7],  # Podešavanje za nebalansirane klase\n",
    "    'min_child_weight': [3, 5]\n",
    "}\n",
    "\n",
    "# Postavljamo GridSearchCV\n",
    "grid_search = GridSearchCV(estimator=xgb_model, param_grid=param_grid, \n",
    "                           scoring='roc_auc', cv=4, n_jobs=-1, verbose=2)\n",
    "\n",
    "# Treniranje modela sa Grid Search-om na trening skupu\n",
    "grid_search.fit(X_train_selected, train_y)\n",
    "\n",
    "# Prikaz najboljih parametara i rezultata\n",
    "best_params = grid_search.best_params_\n",
    "best_score = grid_search.best_score_\n",
    "print(f\"Best Hyperparameters for XGBoost: {best_params}\")\n",
    "print(f\"Best AUC score: {best_score:.4f}\")\n"
   ]
  },
  {
   "cell_type": "markdown",
   "id": "d42b66ec",
   "metadata": {},
   "source": [
    " PRva iteracija : Best Hyperparameters for XGBoost: {'colsample_bytree': 0.7, 'gamma': 0.1, 'learning_rate': 0.01, 'max_depth': 7, 'min_child_weight': 5, 'scale_pos_weight': 7, 'subsample': 0.7}\n",
    "Best AUC score: 0.6870\n"
   ]
  },
  {
   "cell_type": "markdown",
   "id": "3737cb5b",
   "metadata": {},
   "source": [
    "Druga iteracija Best Hyperparameters for XGBoost: {'colsample_bytree': 0.7, 'gamma': 0.05, 'learning_rate': 0.01, 'max_depth': 7, 'min_child_weight': 5, 'scale_pos_weight': 7, 'subsample': 0.7}\n",
    "Best AUC score: 0.6870"
   ]
  },
  {
   "cell_type": "code",
   "execution_count": 160,
   "id": "3fecc660",
   "metadata": {},
   "outputs": [
    {
     "name": "stderr",
     "output_type": "stream",
     "text": [
      "C:\\Users\\Milutin\\anaconda3\\Lib\\site-packages\\xgboost\\core.py:158: UserWarning: [17:28:42] WARNING: C:\\buildkite-agent\\builds\\buildkite-windows-cpu-autoscaling-group-i-0015a694724fa8361-1\\xgboost\\xgboost-ci-windows\\src\\learner.cc:740: \n",
      "Parameters: { \"use_label_encoder\" } are not used.\n",
      "\n",
      "  warnings.warn(smsg, UserWarning)\n"
     ]
    },
    {
     "name": "stdout",
     "output_type": "stream",
     "text": [
      "XGBoost Accuracy on validation set: 0.6563\n",
      "XGBoost Precision on validation set: 0.1958\n",
      "XGBoost Recall on validation set: 0.5846\n",
      "XGBoost AUC on validation set: 0.6786\n",
      "XGBoost F1-Score on validation set: 0.2933\n",
      "\n",
      "Classification Report:\n",
      "              precision    recall  f1-score   support\n",
      "\n",
      "           0       0.92      0.67      0.77      9611\n",
      "           1       0.20      0.58      0.29      1336\n",
      "\n",
      "    accuracy                           0.66     10947\n",
      "   macro avg       0.56      0.63      0.53     10947\n",
      "weighted avg       0.83      0.66      0.71     10947\n",
      "\n"
     ]
    }
   ],
   "source": [
    "from xgboost import XGBClassifier\n",
    "\n",
    "\n",
    "# Kreiranje finalnog XGBoost modela sa najboljim hiperparametrima\n",
    "final_xgb_model = XGBClassifier(\n",
    "    colsample_bytree=0.7,\n",
    "    gamma=0.1,\n",
    "    learning_rate=0.01,\n",
    "    max_depth=7,\n",
    "    min_child_weight=5,\n",
    "    scale_pos_weight=7,\n",
    "    subsample=0.7,\n",
    "    random_state=42,\n",
    "    use_label_encoder=False,\n",
    "    eval_metric='logloss'\n",
    ")\n",
    "\n",
    "# Treniranje modela na celokupnom trening skupu\n",
    "final_xgb_model.fit(X_train_selected, train_y)\n",
    "\n",
    "# Predikcija na validacionom skupu\n",
    "y_valid_pred_xgb = final_xgb_model.predict(X_valid_selected)\n",
    "y_valid_pred_proba_xgb = final_xgb_model.predict_proba(X_valid_selected)[:, 1]\n",
    "\n",
    "# Evaluacija performansi modela na validacionom skupu\n",
    "accuracy_valid = accuracy_score(valid_y, y_valid_pred_xgb)\n",
    "precision_valid = precision_score(valid_y, y_valid_pred_xgb)\n",
    "recall_valid = recall_score(valid_y, y_valid_pred_xgb)\n",
    "roc_auc_valid = roc_auc_score(valid_y, y_valid_pred_proba_xgb)\n",
    "f1_valid = f1_score(valid_y, y_valid_pred_xgb)\n",
    "\n",
    "# Prikaz rezultata\n",
    "print(f\"XGBoost Accuracy on validation set: {accuracy_valid:.4f}\")\n",
    "print(f\"XGBoost Precision on validation set: {precision_valid:.4f}\")\n",
    "print(f\"XGBoost Recall on validation set: {recall_valid:.4f}\")\n",
    "print(f\"XGBoost AUC on validation set: {roc_auc_valid:.4f}\")\n",
    "print(f\"XGBoost F1-Score on validation set: {f1_valid:.4f}\")\n",
    "\n",
    "# Prikaz classification report-a\n",
    "print(\"\\nClassification Report:\")\n",
    "print(classification_report(valid_y, y_valid_pred_xgb))\n"
   ]
  },
  {
   "cell_type": "code",
   "execution_count": 161,
   "id": "7b3c69e6",
   "metadata": {},
   "outputs": [
    {
     "name": "stderr",
     "output_type": "stream",
     "text": [
      "C:\\Users\\Milutin\\anaconda3\\Lib\\site-packages\\xgboost\\core.py:158: UserWarning: [17:29:54] WARNING: C:\\buildkite-agent\\builds\\buildkite-windows-cpu-autoscaling-group-i-0015a694724fa8361-1\\xgboost\\xgboost-ci-windows\\src\\learner.cc:740: \n",
      "Parameters: { \"use_label_encoder\" } are not used.\n",
      "\n",
      "  warnings.warn(smsg, UserWarning)\n"
     ]
    },
    {
     "name": "stdout",
     "output_type": "stream",
     "text": [
      "XGBoost v2 Accuracy on validation set: 0.6864\n",
      "XGBoost v2 Precision on validation set: 0.2003\n",
      "XGBoost v2 Recall on validation set: 0.5247\n",
      "XGBoost v2 AUC on validation set: 0.6781\n",
      "XGBoost v2 F1-Score on validation set: 0.2900\n",
      "\n",
      "Classification Report for XGBoost v2:\n",
      "              precision    recall  f1-score   support\n",
      "\n",
      "           0       0.91      0.71      0.80      9611\n",
      "           1       0.20      0.52      0.29      1336\n",
      "\n",
      "    accuracy                           0.69     10947\n",
      "   macro avg       0.56      0.62      0.54     10947\n",
      "weighted avg       0.83      0.69      0.74     10947\n",
      "\n"
     ]
    }
   ],
   "source": [
    "from xgboost import XGBClassifier\n",
    "from sklearn.metrics import accuracy_score, precision_score, recall_score, roc_auc_score, f1_score, classification_report\n",
    "\n",
    "# Kreiranje novog XGBoost modela sa novim najboljim hiperparametrima\n",
    "xgb_model_v2 = XGBClassifier(\n",
    "    colsample_bytree=0.7,\n",
    "    gamma=0.05,\n",
    "    learning_rate=0.01,\n",
    "    max_depth=9,\n",
    "    min_child_weight=5,\n",
    "    scale_pos_weight=7,\n",
    "    subsample=0.7,\n",
    "    random_state=42,\n",
    "    use_label_encoder=False,\n",
    "    eval_metric='logloss'\n",
    ")\n",
    "\n",
    "# Treniranje modela na celokupnom trening skupu\n",
    "xgb_model_v2.fit(X_train_selected, train_y)\n",
    "\n",
    "# Predikcija na validacionom skupu\n",
    "y_valid_pred_xgb_v2 = xgb_model_v2.predict(X_valid_selected)\n",
    "y_valid_pred_proba_xgb_v2 = xgb_model_v2.predict_proba(X_valid_selected)[:, 1]\n",
    "\n",
    "# Evaluacija performansi modela na validacionom skupu\n",
    "accuracy_valid_v2 = accuracy_score(valid_y, y_valid_pred_xgb_v2)\n",
    "precision_valid_v2 = precision_score(valid_y, y_valid_pred_xgb_v2)\n",
    "recall_valid_v2 = recall_score(valid_y, y_valid_pred_xgb_v2)\n",
    "roc_auc_valid_v2 = roc_auc_score(valid_y, y_valid_pred_proba_xgb_v2)\n",
    "f1_valid_v2 = f1_score(valid_y, y_valid_pred_xgb_v2)\n",
    "\n",
    "# Prikaz rezultata\n",
    "print(f\"XGBoost v2 Accuracy on validation set: {accuracy_valid_v2:.4f}\")\n",
    "print(f\"XGBoost v2 Precision on validation set: {precision_valid_v2:.4f}\")\n",
    "print(f\"XGBoost v2 Recall on validation set: {recall_valid_v2:.4f}\")\n",
    "print(f\"XGBoost v2 AUC on validation set: {roc_auc_valid_v2:.4f}\")\n",
    "print(f\"XGBoost v2 F1-Score on validation set: {f1_valid_v2:.4f}\")\n",
    "\n",
    "# Prikaz classification report-a\n",
    "print(\"\\nClassification Report for XGBoost v2:\")\n",
    "print(classification_report(valid_y, y_valid_pred_xgb_v2))\n"
   ]
  },
  {
   "cell_type": "markdown",
   "id": "8cb5dec2",
   "metadata": {},
   "source": [
    "### Izabrali smo prvi XGBOOST"
   ]
  },
  {
   "cell_type": "code",
   "execution_count": 162,
   "id": "5fe9a433",
   "metadata": {},
   "outputs": [
    {
     "name": "stdout",
     "output_type": "stream",
     "text": [
      "Classification Report for XGBoost v2:\n",
      "              precision    recall  f1-score   support\n",
      "\n",
      "           0       0.92      0.67      0.77      9611\n",
      "           1       0.20      0.58      0.29      1336\n",
      "\n",
      "    accuracy                           0.66     10947\n",
      "   macro avg       0.56      0.63      0.53     10947\n",
      "weighted avg       0.83      0.66      0.71     10947\n",
      "\n"
     ]
    }
   ],
   "source": [
    "\n",
    "\n",
    "# Predikcija na validacionom skupu\n",
    "y_valid_pred_xgb = final_xgb_model.predict(X_valid_selected)\n",
    "\n",
    "# Prikaz classification report-a\n",
    "print(\"Classification Report for XGBoost v2:\")\n",
    "print(classification_report(valid_y, y_valid_pred_xgb))\n"
   ]
  },
  {
   "cell_type": "code",
   "execution_count": 163,
   "id": "067f4f15",
   "metadata": {},
   "outputs": [
    {
     "data": {
      "image/png": "[encoded data removed]",
      "text/plain": [
       "<Figure size 640x480 with 1 Axes>"
      ]
     },
     "metadata": {},
     "output_type": "display_data"
    }
   ],
   "source": [
    "\n",
    "\n",
    "# Predikcija verovatnoća na validacionom skupu\n",
    "y_valid_pred_proba_xgb = final_xgb_model.predict_proba(X_valid_selected)[:, 1]\n",
    "\n",
    "# Izračunavanje ROC krive\n",
    "fpr, tpr, thresholds = roc_curve(valid_y, y_valid_pred_proba_xgb)\n",
    "roc_auc = auc(fpr, tpr)\n",
    "\n",
    "# Nacrtaj ROC krivu\n",
    "plt.figure()\n",
    "plt.plot(fpr, tpr, color='darkorange', lw=2, label=f'ROC curve (area = {roc_auc:.4f})')\n",
    "plt.plot([0, 1], [0, 1], color='navy', lw=2, linestyle='--')\n",
    "plt.xlim([0.0, 1.0])\n",
    "plt.ylim([0.0, 1.05])\n",
    "plt.xlabel('False Positive Rate')\n",
    "plt.ylabel('True Positive Rate')\n",
    "plt.title('Receiver Operating Characteristic - XGBoost v2')\n",
    "plt.legend(loc=\"lower right\")\n",
    "plt.show()\n"
   ]
  },
  {
   "cell_type": "code",
   "execution_count": 164,
   "id": "41832595",
   "metadata": {},
   "outputs": [
    {
     "name": "stdout",
     "output_type": "stream",
     "text": [
      "Best Threshold according to Youden's index: 0.4674\n"
     ]
    }
   ],
   "source": [
    "# Izračunavanje Youdenovog indeksa\n",
    "youden_index = tpr - fpr\n",
    "best_threshold_index = youden_index.argmax()\n",
    "best_threshold = thresholds[best_threshold_index]\n",
    "\n",
    "print(f\"Best Threshold according to Youden's index: {best_threshold:.4f}\")\n"
   ]
  },
  {
   "cell_type": "code",
   "execution_count": 165,
   "id": "9a8ef580",
   "metadata": {},
   "outputs": [
    {
     "name": "stdout",
     "output_type": "stream",
     "text": [
      "Confusion Matrix with Default Threshold (0.5):\n",
      "[[6403 3208]\n",
      " [ 555  781]]\n"
     ]
    }
   ],
   "source": [
    "# Matrica konfuzije za podrazumevani threshold (0.5)\n",
    "conf_matrix_default = confusion_matrix(valid_y, y_valid_pred_xgb)\n",
    "print(\"Confusion Matrix with Default Threshold (0.5):\")\n",
    "print(conf_matrix_default)\n"
   ]
  },
  {
   "cell_type": "code",
   "execution_count": 166,
   "id": "aad43b75",
   "metadata": {},
   "outputs": [
    {
     "name": "stdout",
     "output_type": "stream",
     "text": [
      "Confusion Matrix with Optimal Threshold:\n",
      "[[5237 4374]\n",
      " [ 380  956]]\n"
     ]
    }
   ],
   "source": [
    "\n",
    "\n",
    "# Predikcija sa optimalnim threshold-om\n",
    "y_valid_pred_optimal_xgb = (y_valid_pred_proba_xgb >= best_threshold).astype(int)\n",
    "\n",
    "# Matrica konfuzije za optimalni threshold\n",
    "conf_matrix_optimal = confusion_matrix(valid_y, y_valid_pred_optimal_xgb)\n",
    "print(\"Confusion Matrix with Optimal Threshold:\")\n",
    "print(conf_matrix_optimal)\n"
   ]
  },
  {
   "cell_type": "code",
   "execution_count": 168,
   "id": "7c092c00",
   "metadata": {},
   "outputs": [
    {
     "name": "stdout",
     "output_type": "stream",
     "text": [
      "Optimal Threshold according to economic income: 0.6832\n",
      "Economic Income at optimal threshold 0.6832: 21399000\n",
      "Economic Income at default threshold 0.5: 6408000\n"
     ]
    }
   ],
   "source": [
    "optimal_threshold, optimal_income, economic_incomes, thresholds = find_optimal_threshold(valid_y, y_valid_pred_proba_xgb)\n",
    "\n",
    "# Prikaz rezultata\n",
    "print(f\"Optimal Threshold according to economic income: {optimal_threshold:.4f}\")\n",
    "print(f\"Economic Income at optimal threshold {optimal_threshold:.4f}: {optimal_income}\")\n",
    "\n",
    "# Izračunavanje ekonomske dobiti za podrazumevani threshold od 0.5\n",
    "economic_income_default_threshold = calculate_economic_income(valid_y, y_valid_pred_proba_xgb, 0.5)\n",
    "print(f\"Economic Income at default threshold 0.5: {economic_income_default_threshold}\")"
   ]
  },
  {
   "cell_type": "code",
   "execution_count": 170,
   "id": "8ca91f69",
   "metadata": {},
   "outputs": [],
   "source": [
    "## Veci prihod je kod xgboosta, taj testiramo"
   ]
  },
  {
   "cell_type": "code",
   "execution_count": 184,
   "id": "e3ec4eed",
   "metadata": {},
   "outputs": [
    {
     "name": "stderr",
     "output_type": "stream",
     "text": [
      "C:\\Users\\Milutin\\anaconda3\\Lib\\site-packages\\xgboost\\core.py:158: UserWarning: [02:32:10] WARNING: C:\\buildkite-agent\\builds\\buildkite-windows-cpu-autoscaling-group-i-0015a694724fa8361-1\\xgboost\\xgboost-ci-windows\\src\\learner.cc:740: \n",
      "Parameters: { \"use_label_encoder\" } are not used.\n",
      "\n",
      "  warnings.warn(smsg, UserWarning)\n"
     ]
    }
   ],
   "source": [
    "X_train_final = np.vstack((X_train_selected, X_valid_selected))\n",
    "y_train_final = np.hstack((train_y, valid_y))\n",
    "\n",
    "# Kreiranje finalnog XGBoost modela\n",
    "final_xgb_model = XGBClassifier(\n",
    "    colsample_bytree=0.7,\n",
    "    gamma=0.1,\n",
    "    learning_rate=0.01,\n",
    "    max_depth=7,\n",
    "    min_child_weight=5,\n",
    "    scale_pos_weight=7,\n",
    "    subsample=0.7,\n",
    "    random_state=42,\n",
    "    use_label_encoder=False,\n",
    "    eval_metric='logloss'\n",
    ")\n",
    "\n",
    "# Treniranje modela na finalnom train setu\n",
    "final_xgb_model.fit(X_train_final, y_train_final)\n",
    "\n",
    "# Testiranje modela na test setu\n",
    "y_test_pred = final_xgb_model.predict(X_test_selected)\n",
    "y_test_pred_proba = final_xgb_model.predict_proba(X_test_selected)[:, 1]"
   ]
  },
  {
   "cell_type": "code",
   "execution_count": 185,
   "id": "ab60e2f5",
   "metadata": {},
   "outputs": [
    {
     "name": "stdout",
     "output_type": "stream",
     "text": [
      "XGBoost Accuracy on test set: 0.6588\n",
      "XGBoost Precision on test set: 0.2027\n",
      "XGBoost Recall on test set: 0.6043\n",
      "XGBoost AUC on test set: 0.6844\n",
      "XGBoost F1-Score on test set: 0.3036\n"
     ]
    }
   ],
   "source": [
    "accuracy_test = accuracy_score(test_y, y_test_pred)\n",
    "precision_test = precision_score(test_y, y_test_pred)\n",
    "recall_test = recall_score(test_y, y_test_pred)\n",
    "roc_auc_test = roc_auc_score(test_y, y_test_pred_proba)\n",
    "f1_test = f1_score(test_y, y_test_pred)\n",
    "\n",
    "# Prikaz rezultata\n",
    "print(f\"XGBoost Accuracy on test set: {accuracy_test:.4f}\")\n",
    "print(f\"XGBoost Precision on test set: {precision_test:.4f}\")\n",
    "print(f\"XGBoost Recall on test set: {recall_test:.4f}\")\n",
    "print(f\"XGBoost AUC on test set: {roc_auc_test:.4f}\")\n",
    "print(f\"XGBoost F1-Score on test set: {f1_test:.4f}\")\n"
   ]
  },
  {
   "cell_type": "code",
   "execution_count": 173,
   "id": "5768cebb",
   "metadata": {},
   "outputs": [
    {
     "name": "stdout",
     "output_type": "stream",
     "text": [
      "Optimal Threshold: 0.4962\n",
      "Economic Income at Optimal Threshold: 5892000\n",
      "Economic Income at Default Threshold (0.5): 6552800\n"
     ]
    }
   ],
   "source": [
    "fpr, tpr, thresholds = roc_curve(test_y, y_test_pred_proba)\n",
    "youden_index = tpr - fpr\n",
    "best_threshold_index = youden_index.argmax()\n",
    "best_threshold = thresholds[best_threshold_index]\n",
    "\n",
    "# Izračunavanje ekonomske dobiti za optimalni threshold\n",
    "economic_income_best_threshold = calculate_economic_income(test_y, y_test_pred_proba, best_threshold)\n",
    "\n",
    "# Izračunavanje ekonomske dobiti za podrazumevani threshold od 0.5\n",
    "economic_income_default_threshold = calculate_economic_income(test_y, y_test_pred_proba, 0.5)\n",
    "\n",
    "# Prikaz rezultata ekonomske dobiti\n",
    "print(f\"Optimal Threshold: {best_threshold:.4f}\")\n",
    "print(f\"Economic Income at Optimal Threshold: {economic_income_best_threshold}\")\n",
    "print(f\"Economic Income at Default Threshold (0.5): {economic_income_default_threshold}\")"
   ]
  },
  {
   "cell_type": "code",
   "execution_count": 174,
   "id": "33024952",
   "metadata": {},
   "outputs": [
    {
     "name": "stdout",
     "output_type": "stream",
     "text": [
      "Optimal Threshold according to economic income: 0.7015\n",
      "Economic Income at optimal threshold 0.7015: 21327900\n"
     ]
    }
   ],
   "source": [
    "optimal_threshold, optimal_income, economic_incomes, thresholds = find_optimal_threshold(test_y, y_test_pred_proba)\n",
    "\n",
    "# Prikaz rezultata\n",
    "print(f\"Optimal Threshold according to economic income: {optimal_threshold:.4f}\")\n",
    "print(f\"Economic Income at optimal threshold {optimal_threshold:.4f}: {optimal_income}\")"
   ]
  },
  {
   "cell_type": "code",
   "execution_count": 178,
   "id": "8044e87f",
   "metadata": {},
   "outputs": [
    {
     "name": "stdout",
     "output_type": "stream",
     "text": [
      "Random Forest Optimal Threshold: 0.8455\n",
      "Random Forest Economic Income: 21390300\n",
      "XGBoost Optimal Threshold: 0.6832\n",
      "XGBoost Economic Income: 21399000\n",
      "Benchmark Economic Income (All Purchased): 21377300\n"
     ]
    }
   ],
   "source": [
    "def calculate_economic_income(y_true, y_pred_proba, threshold):\n",
    "    # Primenjujemo threshold\n",
    "    y_pred = (y_pred_proba >= threshold).astype(int)\n",
    "    \n",
    "    # Definišemo TP, TN, FP, FN\n",
    "    TP = np.sum((y_true == 1) & (y_pred == 1))\n",
    "    TN = np.sum((y_true == 0) & (y_pred == 0))\n",
    "    FP = np.sum((y_true == 0) & (y_pred == 1))\n",
    "    FN = np.sum((y_true == 1) & (y_pred == 0))\n",
    "    \n",
    "    # Izračunavanje ekonomskog prihoda prema matrici\n",
    "    economic_income = (TN * 3100) + (FP * -3100) + (FN * -6300)\n",
    "    \n",
    "    return economic_income\n",
    "\n",
    "# Funkcija za pronalaženje optimalnog threshold-a\n",
    "def find_optimal_threshold(y_true, y_pred_proba):\n",
    "    # Izračunavanje ROC krive\n",
    "    fpr, tpr, thresholds = roc_curve(y_true, y_pred_proba)\n",
    "    \n",
    "    # Računamo ekonomski prihod za svaki threshold\n",
    "    economic_incomes = [calculate_economic_income(y_true, y_pred_proba, t) for t in thresholds]\n",
    "    \n",
    "    # Nalazimo threshold koji maksimizuje ekonomski prihod\n",
    "    best_index = np.argmax(economic_incomes)\n",
    "    best_threshold = thresholds[best_index]\n",
    "    best_income = economic_incomes[best_index]\n",
    "    \n",
    "    return best_threshold, best_income\n",
    "\n",
    "# Izračunavanje ekonomske dobiti za Random Forest model\n",
    "optimal_threshold_rf, optimal_income_rf = find_optimal_threshold(valid_y, y_valid_pred_proba_rf2)\n",
    "economic_income_rf = calculate_economic_income(valid_y, y_valid_pred_proba_rf2, optimal_threshold_rf)\n",
    "\n",
    "# Izračunavanje ekonomske dobiti za XGBoost model\n",
    "optimal_threshold_xgb, optimal_income_xgb = find_optimal_threshold(valid_y, y_valid_pred_proba_xgb)\n",
    "economic_income_xgb = calculate_economic_income(valid_y, y_valid_pred_proba_xgb, optimal_threshold_xgb)\n",
    "\n",
    "# Benchmark model koji sve kupuje\n",
    "def calculate_benchmark_income(y_true):\n",
    "    # U benchmark modelu sve kupovine su realizovane (svi su TN ili FN)\n",
    "    FN = np.sum(y_true == 1)  # Svi stvarni pozitivni su FN\n",
    "    TN = np.sum(y_true == 0)  # Svi stvarni negativni su TN\n",
    "    \n",
    "    # Računanje ekonomske dobiti za benchmark model\n",
    "    economic_income = (TN * 3100) + (FN * -6300)\n",
    "    return economic_income\n",
    "\n",
    "# Ekonomska dobit za benchmark model\n",
    "economic_income_benchmark = calculate_benchmark_income(valid_y)\n",
    "\n",
    "# Prikaz rezultata\n",
    "print(f\"Random Forest Optimal Threshold: {optimal_threshold_rf:.4f}\")\n",
    "print(f\"Random Forest Economic Income: {economic_income_rf}\")\n",
    "\n",
    "print(f\"XGBoost Optimal Threshold: {optimal_threshold_xgb:.4f}\")\n",
    "print(f\"XGBoost Economic Income: {economic_income_xgb}\")\n",
    "\n",
    "print(f\"Benchmark Economic Income (All Purchased): {economic_income_benchmark}\")"
   ]
  },
  {
   "cell_type": "code",
   "execution_count": 186,
   "id": "a823011c",
   "metadata": {},
   "outputs": [
    {
     "name": "stdout",
     "output_type": "stream",
     "text": [
      "Optimal Threshold on Test Set: 0.7015\n",
      "Economic Income on Test Set at Optimal Threshold: 21327900\n"
     ]
    }
   ],
   "source": [
    "optimal_threshold_test, optimal_income_test = find_optimal_threshold(test_y, y_test_pred_proba)\n",
    "economic_income_test = calculate_economic_income(test_y, y_test_pred_proba, optimal_threshold_test)\n",
    "\n",
    "# Prikaz rezultata\n",
    "print(f\"Optimal Threshold on Test Set: {optimal_threshold_test:.4f}\")\n",
    "print(f\"Economic Income on Test Set at Optimal Threshold: {economic_income_test}\")"
   ]
  },
  {
   "cell_type": "code",
   "execution_count": 198,
   "id": "7845aff4",
   "metadata": {},
   "outputs": [
    {
     "name": "stdout",
     "output_type": "stream",
     "text": [
      "Benchmark Economic Income (All Purchased): 21277000\n"
     ]
    }
   ],
   "source": [
    "economic_income_benchmark = calculate_benchmark_income(test_y)\n",
    "print(f\"Benchmark Economic Income (All Purchased): {economic_income_benchmark}\")"
   ]
  },
  {
   "cell_type": "code",
   "execution_count": 199,
   "id": "1a1da1f7",
   "metadata": {},
   "outputs": [
    {
     "data": {
      "text/plain": [
       "50900"
      ]
     },
     "execution_count": 199,
     "metadata": {},
     "output_type": "execute_result"
    }
   ],
   "source": [
    "21327900-21277000"
   ]
  },
  {
   "cell_type": "code",
   "execution_count": 190,
   "id": "f9bbda44",
   "metadata": {},
   "outputs": [
    {
     "data": {
      "text/plain": [
       "120595900"
      ]
     },
     "execution_count": 190,
     "metadata": {},
     "output_type": "execute_result"
    }
   ],
   "source": [
    "calculate_benchmark_income(y_train_final)"
   ]
  }
 ],
 "metadata": {
  "kernelspec": {
   "display_name": "Python 3 (ipykernel)",
   "language": "python",
   "name": "python3"
  },
  "language_info": {
   "codemirror_mode": {
    "name": "ipython",
    "version": 3
   },
   "file_extension": ".py",
   "mimetype": "text/x-python",
   "name": "python",
   "nbconvert_exporter": "python",
   "pygments_lexer": "ipython3",
   "version": "3.11.5"
  }
 },
 "nbformat": 4,
 "nbformat_minor": 5
}
