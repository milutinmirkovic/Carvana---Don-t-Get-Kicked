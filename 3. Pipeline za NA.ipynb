{
 "cells": [
  {
   "cell_type": "markdown",
   "id": "bc75026c",
   "metadata": {},
   "source": [
    "# Popunjavanje NA vrednosti na setovima\n",
    "\n",
    "U ovoj svesci cemo napraviti funkcije koje ce popuniti NA vrednosti u train test i valid setu. Prvo smo podelili set na tri dela a tek onda sredjujemo NA vrednosti, kako bismo izbegli curenje podataka. Sustina je da smo test i valid setove popunili na identican nacin kao trening set"
   ]
  },
  {
   "cell_type": "code",
   "execution_count": 1,
   "id": "e273a5e1",
   "metadata": {},
   "outputs": [],
   "source": [
    "import pandas as pd\n",
    "from matplotlib import pyplot as plt\n",
    "import numpy as np\n",
    "import seaborn as sns"
   ]
  },
  {
   "cell_type": "code",
   "execution_count": 2,
   "id": "be4c7c86",
   "metadata": {},
   "outputs": [],
   "source": [
    "train = pd.read_csv('train.csv')\n",
    "test = pd.read_csv('test.csv')\n",
    "valid = pd.read_csv('validation.csv')"
   ]
  },
  {
   "cell_type": "code",
   "execution_count": 3,
   "id": "7bb02eda",
   "metadata": {},
   "outputs": [
    {
     "data": {
      "text/plain": [
       "(51088, 34)"
      ]
     },
     "execution_count": 3,
     "metadata": {},
     "output_type": "execute_result"
    }
   ],
   "source": [
    "train.shape"
   ]
  },
  {
   "cell_type": "code",
   "execution_count": 4,
   "id": "057bb7a1",
   "metadata": {},
   "outputs": [
    {
     "data": {
      "text/plain": [
       "(10948, 34)"
      ]
     },
     "execution_count": 4,
     "metadata": {},
     "output_type": "execute_result"
    }
   ],
   "source": [
    "test.shape"
   ]
  },
  {
   "cell_type": "code",
   "execution_count": 5,
   "id": "033ae3fc",
   "metadata": {},
   "outputs": [
    {
     "data": {
      "text/plain": [
       "(10947, 34)"
      ]
     },
     "execution_count": 5,
     "metadata": {},
     "output_type": "execute_result"
    }
   ],
   "source": [
    "valid.shape"
   ]
  },
  {
   "cell_type": "code",
   "execution_count": 6,
   "id": "68691004",
   "metadata": {
    "scrolled": true
   },
   "outputs": [
    {
     "name": "stdout",
     "output_type": "stream",
     "text": [
      "RefId                                    0\n",
      "IsBadBuy                                 0\n",
      "PurchDate                                0\n",
      "Auction                                  0\n",
      "VehYear                                  0\n",
      "VehicleAge                               0\n",
      "Make                                     0\n",
      "Model                                    0\n",
      "Trim                                  1644\n",
      "SubModel                                 5\n",
      "Color                                    5\n",
      "Transmission                             5\n",
      "WheelTypeID                           2196\n",
      "WheelType                             2200\n",
      "VehOdo                                   0\n",
      "Nationality                              4\n",
      "Size                                     4\n",
      "TopThreeAmericanName                     4\n",
      "MMRAcquisitionAuctionAveragePrice       11\n",
      "MMRAcquisitionAuctionCleanPrice         11\n",
      "MMRAcquisitionRetailAveragePrice        11\n",
      "MMRAcquisitonRetailCleanPrice           11\n",
      "MMRCurrentAuctionAveragePrice          220\n",
      "MMRCurrentAuctionCleanPrice            220\n",
      "MMRCurrentRetailAveragePrice           220\n",
      "MMRCurrentRetailCleanPrice             220\n",
      "PRIMEUNIT                            48697\n",
      "AUCGUART                             48697\n",
      "BYRNO                                    0\n",
      "VNZIP1                                   0\n",
      "VNST                                     0\n",
      "VehBCost                                 0\n",
      "IsOnlineSale                             0\n",
      "WarrantyCost                             0\n",
      "dtype: int64\n"
     ]
    }
   ],
   "source": [
    "print(train.isnull().sum())"
   ]
  },
  {
   "cell_type": "code",
   "execution_count": 7,
   "id": "540e4f39",
   "metadata": {
    "scrolled": true
   },
   "outputs": [
    {
     "name": "stdout",
     "output_type": "stream",
     "text": [
      "RefId                                    0\n",
      "IsBadBuy                                 0\n",
      "PurchDate                                0\n",
      "Auction                                  0\n",
      "VehYear                                  0\n",
      "VehicleAge                               0\n",
      "Make                                     0\n",
      "Model                                    0\n",
      "Trim                                   342\n",
      "SubModel                                 1\n",
      "Color                                    1\n",
      "Transmission                             1\n",
      "WheelTypeID                            498\n",
      "WheelType                              499\n",
      "VehOdo                                   0\n",
      "Nationality                              0\n",
      "Size                                     0\n",
      "TopThreeAmericanName                     0\n",
      "MMRAcquisitionAuctionAveragePrice        6\n",
      "MMRAcquisitionAuctionCleanPrice          6\n",
      "MMRAcquisitionRetailAveragePrice         6\n",
      "MMRAcquisitonRetailCleanPrice            6\n",
      "MMRCurrentAuctionAveragePrice           46\n",
      "MMRCurrentAuctionCleanPrice             46\n",
      "MMRCurrentRetailAveragePrice            46\n",
      "MMRCurrentRetailCleanPrice              46\n",
      "PRIMEUNIT                            10433\n",
      "AUCGUART                             10433\n",
      "BYRNO                                    0\n",
      "VNZIP1                                   0\n",
      "VNST                                     0\n",
      "VehBCost                                 0\n",
      "IsOnlineSale                             0\n",
      "WarrantyCost                             0\n",
      "dtype: int64\n"
     ]
    }
   ],
   "source": [
    "print(test.isnull().sum())"
   ]
  },
  {
   "cell_type": "code",
   "execution_count": 8,
   "id": "8b0e7c4a",
   "metadata": {
    "scrolled": true
   },
   "outputs": [
    {
     "name": "stdout",
     "output_type": "stream",
     "text": [
      "RefId                                    0\n",
      "IsBadBuy                                 0\n",
      "PurchDate                                0\n",
      "Auction                                  0\n",
      "VehYear                                  0\n",
      "VehicleAge                               0\n",
      "Make                                     0\n",
      "Model                                    0\n",
      "Trim                                   374\n",
      "SubModel                                 2\n",
      "Color                                    2\n",
      "Transmission                             3\n",
      "WheelTypeID                            475\n",
      "WheelType                              475\n",
      "VehOdo                                   0\n",
      "Nationality                              1\n",
      "Size                                     1\n",
      "TopThreeAmericanName                     1\n",
      "MMRAcquisitionAuctionAveragePrice        1\n",
      "MMRAcquisitionAuctionCleanPrice          1\n",
      "MMRAcquisitionRetailAveragePrice         1\n",
      "MMRAcquisitonRetailCleanPrice            1\n",
      "MMRCurrentAuctionAveragePrice           49\n",
      "MMRCurrentAuctionCleanPrice             49\n",
      "MMRCurrentRetailAveragePrice            49\n",
      "MMRCurrentRetailCleanPrice              49\n",
      "PRIMEUNIT                            10434\n",
      "AUCGUART                             10434\n",
      "BYRNO                                    0\n",
      "VNZIP1                                   0\n",
      "VNST                                     0\n",
      "VehBCost                                 0\n",
      "IsOnlineSale                             0\n",
      "WarrantyCost                             0\n",
      "dtype: int64\n"
     ]
    }
   ],
   "source": [
    "print(valid.isnull().sum())"
   ]
  },
  {
   "cell_type": "markdown",
   "id": "9c2d1b60",
   "metadata": {},
   "source": [
    "TRIM predstavlja nivo opreme svakog vozila. U setu ima preko 100 nivoa, jer svaki proizvodjac ima svoje nazive. Ipak, moguce je te oznake generalizovati na nekoliko tipova - osnovi, mid range, sportski, luksuzni. Istrazivanjem svakog trima uspeli da odredimo sta svaka oznaka predstavlja. \n",
    "\n",
    "Trim ima veliki broj nedostajucih vrednosti. Srecom, kolona model i make su kompletne, tako da na osnovu modela mozemo da predpostavimo koji je nivo opreme nedostajuci za skoro sve instance. Radi smanjenja kompleksnosti, za 10 najcescih modela smo proverili koji trim je najcesci, pa smo tim modelima dodelili najcescu vrednost za trim. Na primer, modelu Forenza je falio veliki broj trimova. Forence dolaze sa tri kompleta opreme, svaki od kojih se moze kategorisati u basic.\n",
    "\n",
    "Za retke modele nije moguce popuniti trim na ovaj nacin, pa smo njima dodelili basic.\n",
    "\n",
    "U funkciji categorize_trim smo uneli veliki broj trimova iz seta i grupisali ih u 6 kategorija.\n",
    "\n"
   ]
  },
  {
   "cell_type": "code",
   "execution_count": 9,
   "id": "c02a169c",
   "metadata": {},
   "outputs": [],
   "source": [
    "def fill_missing_trim(df, train_df):\n",
    "    # Pronađi 10 najčešćih modela kojima fali 'Trim'\n",
    "    missing_trim_counts = df[df['Trim'].isna()]['Model'].value_counts().head(10)\n",
    "\n",
    "    # Prolazimo kroz tih 10 modela i popunjavamo NaN vrednosti\n",
    "    for model in missing_trim_counts.index:\n",
    "        # Pronađi najčešći 'Trim' za dati model u train setu\n",
    "        most_common_trim = train_df.loc[train_df['Model'] == model, 'Trim'].mode()\n",
    "        \n",
    "        # Ako ne možemo naći najčešći Trim, postavi 'Bas'\n",
    "        if not most_common_trim.empty:\n",
    "            most_common_trim_value = most_common_trim[0]\n",
    "        else:\n",
    "            most_common_trim_value = 'Bas'\n",
    "\n",
    "        # Popuni NaN vrednosti za 'Trim' u datom modelu sa najčešćim 'Trim' ili 'Bas'\n",
    "        df.loc[(df['Model'] == model) & (df['Trim'].isna()), 'Trim'] = most_common_trim_value\n",
    "    \n",
    "    # Za sve ostale modele koji nisu u top 10, popuni 'Trim' sa 'Bas'\n",
    "    df.loc[df['Trim'].isna(), 'Trim'] = 'Bas'\n",
    "    \n",
    "    return df"
   ]
  },
  {
   "cell_type": "code",
   "execution_count": 10,
   "id": "0da9b34c",
   "metadata": {},
   "outputs": [],
   "source": [
    "def categorize_trim(trim):\n",
    "    # Definišemo kategorije na osnovu trimova\n",
    "    basic_trims = {\"W/T\",\"Nor\",\"i\",\"Bas\",\"Cla\",\"1\",\"ES\", \"L\", \"S\", \"SE\", \"LX\", \"EX\", \"LE\", \"GLS\", \"DX\", \"XE\", \"GL\", \"SXT\", \"CX\", \"150\", \"ZX3\", \"ZX4\", \"ZX5\", \"XL\", \"LXi\", \"ZXW\", \"GXE\"}\n",
    "    mid_range_trims = {\"L30\",\"SLE\",\"SES\",\"LS\", \"LT\", \"SEL\", \"XLT\", \"XLS\", \"SLT\", \"CXL\", \"Adv\", \"Cus\", \"SV6\", \"CE\", \"Tou\", \"CXS\", \"GS\", \"STX\",\"2\"}\n",
    "    sport_trims = {\"s\",\"GT\", \"ST\", \"R/T\", \"GTS\", \"SS\", \"Spo\", \"GTP\", \"ZTS\", \"Z71\", \"ZX2\", \"SVT\", \"XRS\", \"FX4\"}\n",
    "    luxury_trims = {\"Lim\", \"Lar\", \"Lux\", \"LTZ\", \"Den\", \"GLS\", \"GTC\", \"L10\", \"L20\", \"Pro\", \"Max\", \"OZ\"}\n",
    "    special_trims = {\"Edg\",\"3\", \"Edd\", \"Z24\", \"Har\", \"LL\", \"JLX\", \"JLS\", \"Hyb\", \"Ent\", \"Ral\", \"ZR2\", \"Spe\", \"Ove\", \"RS\", \"Hig\", \"3 R\", \"Cin\", \"Exe\", \"Val\", \"Sta\", \"VP\", \"Pre\", \"Spy\", \"SC2\", \"SC1\", \"Spy\", \"XR\", \"eC\", \"Out\", \"Ult\", \"Maz\"}\n",
    "\n",
    "    # Podela u kategorije\n",
    "    if trim in basic_trims:\n",
    "        return 'Basic'\n",
    "    elif trim in mid_range_trims:\n",
    "        return 'Mid-Range'\n",
    "    elif trim in sport_trims:\n",
    "        return 'Sport'\n",
    "    elif trim in luxury_trims:\n",
    "        return 'Luxury'\n",
    "    elif trim in special_trims:\n",
    "        return 'Special'\n",
    "    else:\n",
    "        return 'Unknown'"
   ]
  },
  {
   "cell_type": "code",
   "execution_count": 11,
   "id": "9a06b97d",
   "metadata": {},
   "outputs": [],
   "source": [
    "def analyze_bad_buy(df, first_column):\n",
    "    \n",
    "    cross_nation = pd.crosstab(df[first_column], df['IsBadBuy'])\n",
    "    cross_nation_p = cross_nation.div(cross_nation.sum(1).astype(float), axis=0)  \n",
    "    combined = pd.concat([cross_nation, cross_nation_p], axis=1, keys=['Count', 'Percentage']) \n",
    "    combined_sorted = combined.sort_values(by=('Percentage', 1), ascending=False)\n",
    "    \n",
    "    return combined_sorted"
   ]
  },
  {
   "cell_type": "markdown",
   "id": "152f8548",
   "metadata": {},
   "source": [
    "Ubedljivo najcesci tip menjaca je automatik. Iako bi bilo preciznije proveravati tip za svaki model, odlucili smo se za brzi i efikasniji pristup. "
   ]
  },
  {
   "cell_type": "code",
   "execution_count": 12,
   "id": "678d540d",
   "metadata": {},
   "outputs": [],
   "source": [
    "def fill_missing_transmission(df):\n",
    "    \n",
    "    \n",
    "   \n",
    "    df['Transmission'].fillna('auto', inplace=True)\n",
    "    \n",
    "    return df"
   ]
  },
  {
   "cell_type": "markdown",
   "id": "30c5d855",
   "metadata": {},
   "source": [
    "Tip tockova smo popunili prema najcescem tipu tockova za svaki model automobila"
   ]
  },
  {
   "cell_type": "code",
   "execution_count": 13,
   "id": "cf10d9b6",
   "metadata": {},
   "outputs": [],
   "source": [
    "def fill_wheel_type_by_make(df, train):\n",
    "    \n",
    "    for model in train['Model'].unique():\n",
    "        # Pronalazak najčešće vrednosti za 'WheelType' za dati model\n",
    "        mode_values = train.loc[train['Model'] == model, 'WheelType'].mode()\n",
    "        \n",
    "        # Ako postoji najčešća vrednost, koristi je, inače koristi 'Alloy'\n",
    "        if not mode_values.empty:\n",
    "            najcesci_wheel_type = mode_values[0]\n",
    "        else:\n",
    "            najcesci_wheel_type = 'Alloy'\n",
    "        \n",
    "        # Kreiranje maske za nedostajuće vrednosti u 'WheelType' za dati model\n",
    "        mask = (df['WheelType'].isna()) & (df['Model'] == model)\n",
    "        \n",
    "        # Popunjavanje nedostajućih vrednosti\n",
    "        df.loc[mask, 'WheelType'] = najcesci_wheel_type\n",
    "        df['WheelType'].fillna('Alloy', inplace=True)\n",
    "    return df"
   ]
  },
  {
   "cell_type": "code",
   "execution_count": 14,
   "id": "2dcae339",
   "metadata": {},
   "outputs": [],
   "source": [
    "def fill_size_by_make(df, train):\n",
    "    \n",
    "    for model in train['Model'].unique():\n",
    "        # Pronalazak najčešće vrednosti za 'WheelType' za dati model\n",
    "        mode_values = train.loc[train['Model'] == model, 'Size'].mode()\n",
    "        \n",
    "        # Ako postoji najčešća vrednost, koristi je, inače koristi 'Alloy'\n",
    "        if not mode_values.empty:\n",
    "            najcesci_size = mode_values[0]\n",
    "        else:\n",
    "            najcesci_size = 'MEDIUM'\n",
    "        \n",
    "        # Kreiranje maske za nedostajuće vrednosti u 'WheelType' za dati model\n",
    "        mask = (df['Size'].isna()) & (df['Model'] == model)\n",
    "        \n",
    "        # Popunjavanje nedostajućih vrednosti\n",
    "        df.loc[mask, 'Size'] = najcesci_size\n",
    "        df['Size'].fillna('MEDIUM', inplace=True)\n",
    "    return df"
   ]
  },
  {
   "cell_type": "markdown",
   "id": "8d693dcc",
   "metadata": {},
   "source": [
    "Nacionalnost smo popunili po najcescoj nacionalnosti za svakog proizvodjaca."
   ]
  },
  {
   "cell_type": "code",
   "execution_count": 15,
   "id": "4728cbe7",
   "metadata": {},
   "outputs": [],
   "source": [
    "def fill_missing_nationality(df, train):\n",
    "    # Prolazak kroz jedinstvene vrednosti u koloni 'Make'\n",
    "    for make in train['Make'].unique():\n",
    "        # Pronađi najčešću 'Nationality' za trenutni 'Make'\n",
    "        most_common_nationality = train.loc[train['Make'] == make, 'Nationality'].mode()\n",
    "        \n",
    "        # Ako postoji najčešća nacionalnost, popuni NaN vrednosti sa njom\n",
    "        if not most_common_nationality.empty:\n",
    "            most_common_nationality_value = most_common_nationality[0]\n",
    "            df.loc[(df['Make'] == make) & (df['Nationality'].isna()), 'Nationality'] = most_common_nationality_value\n",
    "    df['Nationality'].fillna('AMERICAN', inplace=True)\n",
    "    return df"
   ]
  },
  {
   "cell_type": "code",
   "execution_count": 16,
   "id": "ab702e96",
   "metadata": {},
   "outputs": [],
   "source": [
    "def fill_missing_top_three_american_name(df,train):\n",
    "    # Prolazak kroz jedinstvene vrednosti u koloni 'Make'\n",
    "    for make in train['Make'].unique():\n",
    "        # Pronađi najčešću vrednost u koloni 'TopThreeAmericanName' za trenutni 'Make'\n",
    "        most_common_top_three_name = train.loc[train['Make'] == make, 'TopThreeAmericanName'].mode()\n",
    "        \n",
    "        # Ako postoji najčešća vrednost, popuni NaN vrednosti sa njom\n",
    "        if not most_common_top_three_name.empty:\n",
    "            most_common_top_three_name_value = most_common_top_three_name[0]\n",
    "            df.loc[(df['Make'] == make) & (df['TopThreeAmericanName'].isna()), 'TopThreeAmericanName'] = most_common_top_three_name_value\n",
    "    df['TopThreeAmericanName'].fillna('GM', inplace=True)\n",
    "    return df"
   ]
  },
  {
   "cell_type": "markdown",
   "id": "010218f8",
   "metadata": {},
   "source": [
    "U prethodnim analizama smo videli da sve raspodele svih mmr vrednosti lice na normalnu, te cemo nedostajuce vrednosti popuniti medijanom "
   ]
  },
  {
   "cell_type": "code",
   "execution_count": 17,
   "id": "9a7b573d",
   "metadata": {},
   "outputs": [],
   "source": [
    "def fill_missing_mmrs_with_median(df, train_df):\n",
    "    \n",
    "    columns_to_fill = [\n",
    "        'MMRAcquisitionAuctionAveragePrice',\n",
    "        'MMRAcquisitionAuctionCleanPrice',\n",
    "        'MMRAcquisitionRetailAveragePrice',\n",
    "        'MMRAcquisitonRetailCleanPrice',\n",
    "        'MMRCurrentAuctionAveragePrice',\n",
    "        'MMRCurrentAuctionCleanPrice',\n",
    "        'MMRCurrentRetailAveragePrice',\n",
    "        'MMRCurrentRetailCleanPrice'\n",
    "    ]\n",
    "    \n",
    "    \n",
    "    for column in columns_to_fill:\n",
    "   \n",
    "        filtered_train_df = train_df[(train_df[column] != 0) & (train_df[column] != 1)]\n",
    "        \n",
    "        # Izračunavanje medijana\n",
    "        median_value = filtered_train_df[column].median()\n",
    "        \n",
    "        # Popunjavanje NaN vrednosti sa izračunatim medijanom\n",
    "        df[column].fillna(median_value, inplace=True)\n",
    "    \n",
    "    return df"
   ]
  },
  {
   "cell_type": "markdown",
   "id": "ddcfa0b4",
   "metadata": {},
   "source": [
    "Boja nije znacajn atributm pa smo sve popunili plavom."
   ]
  },
  {
   "cell_type": "code",
   "execution_count": 18,
   "id": "5822d60a",
   "metadata": {},
   "outputs": [],
   "source": [
    "def fill_missing_color_with_blue(df):\n",
    "    \n",
    "    df['Color'].fillna('BLUE', inplace=True)\n",
    "    return df"
   ]
  },
  {
   "cell_type": "markdown",
   "id": "90f7ad19",
   "metadata": {},
   "source": [
    "Sledece kolone smo resili da odmah izbacimo"
   ]
  },
  {
   "cell_type": "code",
   "execution_count": 19,
   "id": "c3414080",
   "metadata": {},
   "outputs": [],
   "source": [
    "def drop_unwanted_columns(df):\n",
    "    # Definišemo kolone koje treba obrisati\n",
    "    columns_to_drop = [\n",
    "        'RefId', 'PurchDate', 'SubModel', 'WheelTypeID', \n",
    "        'PRIMEUNIT', 'AUCGUART', 'IsOnlineSale', 'VNZIP1', 'BYRNO'\n",
    "    ]\n",
    "    \n",
    "    # Brisanje kolona iz DataFrame-a\n",
    "    df.drop(columns=columns_to_drop, inplace=True)\n",
    "    \n",
    "    return df"
   ]
  },
  {
   "cell_type": "code",
   "execution_count": 20,
   "id": "e7b072d3",
   "metadata": {},
   "outputs": [],
   "source": [
    "def process_dataset(df, train_df):\n",
    "    df = drop_unwanted_columns(df) #\n",
    "    df = fill_wheel_type_by_make(df,train_df) #\n",
    "    df = fill_missing_trim(df, train_df) #\n",
    "    df = fill_missing_transmission(df) #\n",
    "    df = fill_missing_nationality(df, train_df) #\n",
    "    df = fill_missing_top_three_american_name(df,train_df) #\n",
    "    df = fill_missing_mmrs_with_median(df, train_df) #\n",
    "    df = fill_missing_color_with_blue(df) #\n",
    "    df = fill_size_by_make(df,train_df)\n",
    "    return df"
   ]
  },
  {
   "cell_type": "code",
   "execution_count": 21,
   "id": "dd84afc9",
   "metadata": {},
   "outputs": [],
   "source": [
    "train = process_dataset(train,train)"
   ]
  },
  {
   "cell_type": "code",
   "execution_count": 22,
   "id": "d96be14a",
   "metadata": {
    "scrolled": true
   },
   "outputs": [
    {
     "name": "stdout",
     "output_type": "stream",
     "text": [
      "IsBadBuy                             0\n",
      "Auction                              0\n",
      "VehYear                              0\n",
      "VehicleAge                           0\n",
      "Make                                 0\n",
      "Model                                0\n",
      "Trim                                 0\n",
      "Color                                0\n",
      "Transmission                         0\n",
      "WheelType                            0\n",
      "VehOdo                               0\n",
      "Nationality                          0\n",
      "Size                                 0\n",
      "TopThreeAmericanName                 0\n",
      "MMRAcquisitionAuctionAveragePrice    0\n",
      "MMRAcquisitionAuctionCleanPrice      0\n",
      "MMRAcquisitionRetailAveragePrice     0\n",
      "MMRAcquisitonRetailCleanPrice        0\n",
      "MMRCurrentAuctionAveragePrice        0\n",
      "MMRCurrentAuctionCleanPrice          0\n",
      "MMRCurrentRetailAveragePrice         0\n",
      "MMRCurrentRetailCleanPrice           0\n",
      "VNST                                 0\n",
      "VehBCost                             0\n",
      "WarrantyCost                         0\n",
      "dtype: int64\n"
     ]
    }
   ],
   "source": [
    "print(train.isnull().sum())"
   ]
  },
  {
   "cell_type": "code",
   "execution_count": 23,
   "id": "c6871e67",
   "metadata": {},
   "outputs": [],
   "source": [
    "test = process_dataset(test,train)\n",
    "valid = process_dataset(valid,train)"
   ]
  },
  {
   "cell_type": "code",
   "execution_count": 24,
   "id": "02b00520",
   "metadata": {},
   "outputs": [
    {
     "name": "stdout",
     "output_type": "stream",
     "text": [
      "IsBadBuy                             0\n",
      "Auction                              0\n",
      "VehYear                              0\n",
      "VehicleAge                           0\n",
      "Make                                 0\n",
      "Model                                0\n",
      "Trim                                 0\n",
      "Color                                0\n",
      "Transmission                         0\n",
      "WheelType                            0\n",
      "VehOdo                               0\n",
      "Nationality                          0\n",
      "Size                                 0\n",
      "TopThreeAmericanName                 0\n",
      "MMRAcquisitionAuctionAveragePrice    0\n",
      "MMRAcquisitionAuctionCleanPrice      0\n",
      "MMRAcquisitionRetailAveragePrice     0\n",
      "MMRAcquisitonRetailCleanPrice        0\n",
      "MMRCurrentAuctionAveragePrice        0\n",
      "MMRCurrentAuctionCleanPrice          0\n",
      "MMRCurrentRetailAveragePrice         0\n",
      "MMRCurrentRetailCleanPrice           0\n",
      "VNST                                 0\n",
      "VehBCost                             0\n",
      "WarrantyCost                         0\n",
      "dtype: int64\n"
     ]
    }
   ],
   "source": [
    "print(test.isna().sum())"
   ]
  },
  {
   "cell_type": "code",
   "execution_count": 25,
   "id": "9f6f4638",
   "metadata": {
    "scrolled": true
   },
   "outputs": [
    {
     "name": "stdout",
     "output_type": "stream",
     "text": [
      "IsBadBuy                             0\n",
      "Auction                              0\n",
      "VehYear                              0\n",
      "VehicleAge                           0\n",
      "Make                                 0\n",
      "Model                                0\n",
      "Trim                                 0\n",
      "Color                                0\n",
      "Transmission                         0\n",
      "WheelType                            0\n",
      "VehOdo                               0\n",
      "Nationality                          0\n",
      "Size                                 0\n",
      "TopThreeAmericanName                 0\n",
      "MMRAcquisitionAuctionAveragePrice    0\n",
      "MMRAcquisitionAuctionCleanPrice      0\n",
      "MMRAcquisitionRetailAveragePrice     0\n",
      "MMRAcquisitonRetailCleanPrice        0\n",
      "MMRCurrentAuctionAveragePrice        0\n",
      "MMRCurrentAuctionCleanPrice          0\n",
      "MMRCurrentRetailAveragePrice         0\n",
      "MMRCurrentRetailCleanPrice           0\n",
      "VNST                                 0\n",
      "VehBCost                             0\n",
      "WarrantyCost                         0\n",
      "dtype: int64\n"
     ]
    }
   ],
   "source": [
    "print(valid.isnull().sum())"
   ]
  },
  {
   "cell_type": "code",
   "execution_count": 26,
   "id": "48e293be",
   "metadata": {},
   "outputs": [],
   "source": [
    "train.to_csv('train_bezNA.csv',index=False)\n",
    "test.to_csv('test_bezNA.csv',index=False)\n",
    "valid.to_csv('valid_bezNA.csv',index=False)"
   ]
  }
 ],
 "metadata": {
  "kernelspec": {
   "display_name": "Python 3 (ipykernel)",
   "language": "python",
   "name": "python3"
  },
  "language_info": {
   "codemirror_mode": {
    "name": "ipython",
    "version": 3
   },
   "file_extension": ".py",
   "mimetype": "text/x-python",
   "name": "python",
   "nbconvert_exporter": "python",
   "pygments_lexer": "ipython3",
   "version": "3.11.5"
  }
 },
 "nbformat": 4,
 "nbformat_minor": 5
}
