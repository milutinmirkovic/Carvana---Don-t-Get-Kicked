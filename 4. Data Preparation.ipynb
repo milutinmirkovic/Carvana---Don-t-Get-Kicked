{
 "cells": [
  {
   "cell_type": "markdown",
   "id": "fb075c41",
   "metadata": {},
   "source": [
    "# Data preparation \n",
    "u ovoj svesci cemo pripremiti podatke za modelovanje skaliranjem i adaptacijom postojecih atributa, izvodjenjem novih atributa "
   ]
  },
  {
   "cell_type": "code",
   "execution_count": 1,
   "id": "e9251d60",
   "metadata": {},
   "outputs": [],
   "source": [
    "import pandas as pd\n",
    "from matplotlib import pyplot as plt\n",
    "import numpy as np\n",
    "import seaborn as sns\n"
   ]
  },
  {
   "cell_type": "code",
   "execution_count": 2,
   "id": "aa10e6bb",
   "metadata": {},
   "outputs": [],
   "source": [
    "from sklearn.preprocessing import StandardScaler"
   ]
  },
  {
   "cell_type": "code",
   "execution_count": 3,
   "id": "13b967d7",
   "metadata": {},
   "outputs": [],
   "source": [
    "train = pd.read_csv('train_bezNA.csv')\n",
    "test = pd.read_csv('test_bezNA.csv')\n",
    "valid = pd.read_csv('valid_bezNA.csv')"
   ]
  },
  {
   "cell_type": "code",
   "execution_count": 4,
   "id": "1eeb6d53",
   "metadata": {},
   "outputs": [
    {
     "data": {
      "text/plain": [
       "(10948, 25)"
      ]
     },
     "execution_count": 4,
     "metadata": {},
     "output_type": "execute_result"
    }
   ],
   "source": [
    "test.shape"
   ]
  },
  {
   "cell_type": "code",
   "execution_count": 5,
   "id": "48a946f5",
   "metadata": {},
   "outputs": [
    {
     "data": {
      "text/html": [
       "<div>\n",
       "<style scoped>\n",
       "    .dataframe tbody tr th:only-of-type {\n",
       "        vertical-align: middle;\n",
       "    }\n",
       "\n",
       "    .dataframe tbody tr th {\n",
       "        vertical-align: top;\n",
       "    }\n",
       "\n",
       "    .dataframe thead th {\n",
       "        text-align: right;\n",
       "    }\n",
       "</style>\n",
       "<table border=\"1\" class=\"dataframe\">\n",
       "  <thead>\n",
       "    <tr style=\"text-align: right;\">\n",
       "      <th></th>\n",
       "      <th>IsBadBuy</th>\n",
       "      <th>Auction</th>\n",
       "      <th>VehYear</th>\n",
       "      <th>VehicleAge</th>\n",
       "      <th>Make</th>\n",
       "      <th>Model</th>\n",
       "      <th>Trim</th>\n",
       "      <th>Color</th>\n",
       "      <th>Transmission</th>\n",
       "      <th>WheelType</th>\n",
       "      <th>...</th>\n",
       "      <th>MMRAcquisitionAuctionCleanPrice</th>\n",
       "      <th>MMRAcquisitionRetailAveragePrice</th>\n",
       "      <th>MMRAcquisitonRetailCleanPrice</th>\n",
       "      <th>MMRCurrentAuctionAveragePrice</th>\n",
       "      <th>MMRCurrentAuctionCleanPrice</th>\n",
       "      <th>MMRCurrentRetailAveragePrice</th>\n",
       "      <th>MMRCurrentRetailCleanPrice</th>\n",
       "      <th>VNST</th>\n",
       "      <th>VehBCost</th>\n",
       "      <th>WarrantyCost</th>\n",
       "    </tr>\n",
       "  </thead>\n",
       "  <tbody>\n",
       "    <tr>\n",
       "      <th>0</th>\n",
       "      <td>0</td>\n",
       "      <td>MANHEIM</td>\n",
       "      <td>2007</td>\n",
       "      <td>3</td>\n",
       "      <td>CHEVROLET</td>\n",
       "      <td>IMPALA V6</td>\n",
       "      <td>LT</td>\n",
       "      <td>WHITE</td>\n",
       "      <td>AUTO</td>\n",
       "      <td>Alloy</td>\n",
       "      <td>...</td>\n",
       "      <td>10270.0</td>\n",
       "      <td>11926.0</td>\n",
       "      <td>13603.0</td>\n",
       "      <td>8167.0</td>\n",
       "      <td>9866.0</td>\n",
       "      <td>12135.0</td>\n",
       "      <td>13694.0</td>\n",
       "      <td>MA</td>\n",
       "      <td>7480.0</td>\n",
       "      <td>1974</td>\n",
       "    </tr>\n",
       "    <tr>\n",
       "      <th>1</th>\n",
       "      <td>0</td>\n",
       "      <td>MANHEIM</td>\n",
       "      <td>2006</td>\n",
       "      <td>3</td>\n",
       "      <td>DODGE</td>\n",
       "      <td>STRATUS V6 2.7L V6 M</td>\n",
       "      <td>SXT</td>\n",
       "      <td>BLUE</td>\n",
       "      <td>AUTO</td>\n",
       "      <td>Covers</td>\n",
       "      <td>...</td>\n",
       "      <td>6461.0</td>\n",
       "      <td>6418.0</td>\n",
       "      <td>7478.0</td>\n",
       "      <td>5638.0</td>\n",
       "      <td>6512.0</td>\n",
       "      <td>6589.0</td>\n",
       "      <td>7533.0</td>\n",
       "      <td>NC</td>\n",
       "      <td>4700.0</td>\n",
       "      <td>1389</td>\n",
       "    </tr>\n",
       "    <tr>\n",
       "      <th>2</th>\n",
       "      <td>0</td>\n",
       "      <td>MANHEIM</td>\n",
       "      <td>2007</td>\n",
       "      <td>3</td>\n",
       "      <td>FORD</td>\n",
       "      <td>ESCAPE 2WD 4C</td>\n",
       "      <td>XLS</td>\n",
       "      <td>BLUE</td>\n",
       "      <td>AUTO</td>\n",
       "      <td>Alloy</td>\n",
       "      <td>...</td>\n",
       "      <td>10246.0</td>\n",
       "      <td>12297.0</td>\n",
       "      <td>13975.0</td>\n",
       "      <td>8223.0</td>\n",
       "      <td>10358.0</td>\n",
       "      <td>12126.0</td>\n",
       "      <td>14046.0</td>\n",
       "      <td>MD</td>\n",
       "      <td>7970.0</td>\n",
       "      <td>920</td>\n",
       "    </tr>\n",
       "    <tr>\n",
       "      <th>3</th>\n",
       "      <td>0</td>\n",
       "      <td>MANHEIM</td>\n",
       "      <td>2006</td>\n",
       "      <td>4</td>\n",
       "      <td>FORD</td>\n",
       "      <td>TAURUS</td>\n",
       "      <td>SE</td>\n",
       "      <td>GREY</td>\n",
       "      <td>AUTO</td>\n",
       "      <td>Alloy</td>\n",
       "      <td>...</td>\n",
       "      <td>5759.0</td>\n",
       "      <td>7637.0</td>\n",
       "      <td>8842.0</td>\n",
       "      <td>4216.0</td>\n",
       "      <td>5578.0</td>\n",
       "      <td>7533.0</td>\n",
       "      <td>8973.0</td>\n",
       "      <td>NC</td>\n",
       "      <td>5200.0</td>\n",
       "      <td>1053</td>\n",
       "    </tr>\n",
       "    <tr>\n",
       "      <th>4</th>\n",
       "      <td>1</td>\n",
       "      <td>ADESA</td>\n",
       "      <td>2006</td>\n",
       "      <td>3</td>\n",
       "      <td>FORD</td>\n",
       "      <td>FIVE HUNDRED 3.0L V6</td>\n",
       "      <td>SE</td>\n",
       "      <td>BEIGE</td>\n",
       "      <td>AUTO</td>\n",
       "      <td>Alloy</td>\n",
       "      <td>...</td>\n",
       "      <td>7716.0</td>\n",
       "      <td>7267.0</td>\n",
       "      <td>8833.0</td>\n",
       "      <td>6266.0</td>\n",
       "      <td>7716.0</td>\n",
       "      <td>7267.0</td>\n",
       "      <td>8833.0</td>\n",
       "      <td>OH</td>\n",
       "      <td>6630.0</td>\n",
       "      <td>1506</td>\n",
       "    </tr>\n",
       "  </tbody>\n",
       "</table>\n",
       "<p>5 rows × 25 columns</p>\n",
       "</div>"
      ],
      "text/plain": [
       "   IsBadBuy  Auction  VehYear  VehicleAge       Make                 Model  \\\n",
       "0         0  MANHEIM     2007           3  CHEVROLET             IMPALA V6   \n",
       "1         0  MANHEIM     2006           3      DODGE  STRATUS V6 2.7L V6 M   \n",
       "2         0  MANHEIM     2007           3       FORD         ESCAPE 2WD 4C   \n",
       "3         0  MANHEIM     2006           4       FORD                TAURUS   \n",
       "4         1    ADESA     2006           3       FORD  FIVE HUNDRED 3.0L V6   \n",
       "\n",
       "  Trim  Color Transmission WheelType  ...  MMRAcquisitionAuctionCleanPrice  \\\n",
       "0   LT  WHITE         AUTO     Alloy  ...                          10270.0   \n",
       "1  SXT   BLUE         AUTO    Covers  ...                           6461.0   \n",
       "2  XLS   BLUE         AUTO     Alloy  ...                          10246.0   \n",
       "3   SE   GREY         AUTO     Alloy  ...                           5759.0   \n",
       "4   SE  BEIGE         AUTO     Alloy  ...                           7716.0   \n",
       "\n",
       "  MMRAcquisitionRetailAveragePrice MMRAcquisitonRetailCleanPrice  \\\n",
       "0                          11926.0                       13603.0   \n",
       "1                           6418.0                        7478.0   \n",
       "2                          12297.0                       13975.0   \n",
       "3                           7637.0                        8842.0   \n",
       "4                           7267.0                        8833.0   \n",
       "\n",
       "  MMRCurrentAuctionAveragePrice  MMRCurrentAuctionCleanPrice  \\\n",
       "0                        8167.0                       9866.0   \n",
       "1                        5638.0                       6512.0   \n",
       "2                        8223.0                      10358.0   \n",
       "3                        4216.0                       5578.0   \n",
       "4                        6266.0                       7716.0   \n",
       "\n",
       "   MMRCurrentRetailAveragePrice  MMRCurrentRetailCleanPrice  VNST  VehBCost  \\\n",
       "0                       12135.0                     13694.0    MA    7480.0   \n",
       "1                        6589.0                      7533.0    NC    4700.0   \n",
       "2                       12126.0                     14046.0    MD    7970.0   \n",
       "3                        7533.0                      8973.0    NC    5200.0   \n",
       "4                        7267.0                      8833.0    OH    6630.0   \n",
       "\n",
       "   WarrantyCost  \n",
       "0          1974  \n",
       "1          1389  \n",
       "2           920  \n",
       "3          1053  \n",
       "4          1506  \n",
       "\n",
       "[5 rows x 25 columns]"
      ]
     },
     "execution_count": 5,
     "metadata": {},
     "output_type": "execute_result"
    }
   ],
   "source": [
    "train.head()"
   ]
  },
  {
   "cell_type": "code",
   "execution_count": 6,
   "id": "ef8441c3",
   "metadata": {},
   "outputs": [
    {
     "data": {
      "text/plain": [
       "Index(['IsBadBuy', 'Auction', 'VehYear', 'VehicleAge', 'Make', 'Model', 'Trim',\n",
       "       'Color', 'Transmission', 'WheelType', 'VehOdo', 'Nationality', 'Size',\n",
       "       'TopThreeAmericanName', 'MMRAcquisitionAuctionAveragePrice',\n",
       "       'MMRAcquisitionAuctionCleanPrice', 'MMRAcquisitionRetailAveragePrice',\n",
       "       'MMRAcquisitonRetailCleanPrice', 'MMRCurrentAuctionAveragePrice',\n",
       "       'MMRCurrentAuctionCleanPrice', 'MMRCurrentRetailAveragePrice',\n",
       "       'MMRCurrentRetailCleanPrice', 'VNST', 'VehBCost', 'WarrantyCost'],\n",
       "      dtype='object')"
      ]
     },
     "execution_count": 6,
     "metadata": {},
     "output_type": "execute_result"
    }
   ],
   "source": [
    "train.columns"
   ]
  },
  {
   "cell_type": "code",
   "execution_count": null,
   "id": "2d551113",
   "metadata": {},
   "outputs": [],
   "source": []
  },
  {
   "cell_type": "code",
   "execution_count": 7,
   "id": "c7d4a0a7",
   "metadata": {},
   "outputs": [
    {
     "name": "stdout",
     "output_type": "stream",
     "text": [
      "Numeričke kolone:\n",
      "14\n",
      "Index(['IsBadBuy', 'VehYear', 'VehicleAge', 'VehOdo',\n",
      "       'MMRAcquisitionAuctionAveragePrice', 'MMRAcquisitionAuctionCleanPrice',\n",
      "       'MMRAcquisitionRetailAveragePrice', 'MMRAcquisitonRetailCleanPrice',\n",
      "       'MMRCurrentAuctionAveragePrice', 'MMRCurrentAuctionCleanPrice',\n",
      "       'MMRCurrentRetailAveragePrice', 'MMRCurrentRetailCleanPrice',\n",
      "       'VehBCost', 'WarrantyCost'],\n",
      "      dtype='object')\n",
      "\n",
      "Kategorijske kolone:\n",
      "11\n",
      "Index(['Auction', 'Make', 'Model', 'Trim', 'Color', 'Transmission',\n",
      "       'WheelType', 'Nationality', 'Size', 'TopThreeAmericanName', 'VNST'],\n",
      "      dtype='object')\n"
     ]
    }
   ],
   "source": [
    "numeric_columns = train.select_dtypes(include='number').columns\n",
    "print(\"Numeričke kolone:\")\n",
    "print(len(numeric_columns))\n",
    "print(numeric_columns)\n",
    "\n",
    "# Izdvajanje kategorijskih kolona\n",
    "categorical_columns = train.select_dtypes(include='object').columns\n",
    "\n",
    "print(\"\\nKategorijske kolone:\")\n",
    "print(len(categorical_columns))\n",
    "print(categorical_columns)"
   ]
  },
  {
   "cell_type": "code",
   "execution_count": 8,
   "id": "449324d3",
   "metadata": {},
   "outputs": [],
   "source": [
    "import pandas as pd\n",
    "from sklearn.preprocessing import StandardScaler\n",
    "\n",
    "def scale_column(train, test, valid, column_name):\n",
    "   \n",
    "    \n",
    "    # Inicijalizacija StandardScaler-a i prilagođavanje samo na određenu kolonu iz trening seta\n",
    "    scaler = StandardScaler()\n",
    "    train[[column_name]] = scaler.fit_transform(train[[column_name]])\n",
    "    \n",
    "    # Skaliranje kolone u test i validacionim skupovima koristeći statistike iz trening seta\n",
    "    test[[column_name]] = scaler.transform(test[[column_name]])\n",
    "    valid[[column_name]] = scaler.transform(valid[[column_name]])\n",
    "    \n",
    "    return train, test, valid\n"
   ]
  },
  {
   "cell_type": "markdown",
   "id": "4ba38de5",
   "metadata": {},
   "source": [
    "Ovo je funkcija koja nad prosledjenim atributom standardizuje vrednosti, koristeci prosek i std devijaciju sa train seta, \n",
    "kako bismo izbegli data leakage. Korsitimo standardizaciju, jer je normalizacija osetljiva na autlajere koje smo odlucili da ostavimo jer ih ima malo i mogu biti od znacaja za predvidjanje."
   ]
  },
  {
   "cell_type": "markdown",
   "id": "19f479ce",
   "metadata": {},
   "source": [
    "### VehOdo"
   ]
  },
  {
   "cell_type": "markdown",
   "id": "60f2b940",
   "metadata": {},
   "source": [
    "Kilometrazu cemo standardizovati posebno za svaku godinu starosti vozila, na osvnovu zapazanja u delu Data Introduction"
   ]
  },
  {
   "cell_type": "code",
   "execution_count": 9,
   "id": "d751114f",
   "metadata": {},
   "outputs": [],
   "source": [
    "def standardize_vehodo(train, df):\n",
    "    # Računanje srednje vrednosti i standardne devijacije za svaki 'VehicleAge' u train setu\n",
    "    OdoYear_mean = train.groupby('VehicleAge')['VehOdo'].mean()\n",
    "    OdoYear_std = train.groupby('VehicleAge')['VehOdo'].std()\n",
    "    \n",
    "    \n",
    "    # Mapiranje srednje vrednosti i standardne devijacije na drugi set\n",
    "    df['OdoYear_mean'] = df['VehicleAge'].map(OdoYear_mean)\n",
    "    df['OdoYear_std'] = df['VehicleAge'].map(OdoYear_std)\n",
    "    \n",
    "    # Standardizacija 'VehOdo' u drugom setu\n",
    "    df['VehOdo_Standard'] = (df['VehOdo'] - df['OdoYear_mean']) / df['OdoYear_std']\n",
    "    \n",
    "    # Uklanjanje privremenih kolona\n",
    "    df = df.drop(columns=['OdoYear_mean', 'OdoYear_std'])\n",
    "    \n",
    "    return df\n"
   ]
  },
  {
   "cell_type": "markdown",
   "id": "b9a042cd",
   "metadata": {},
   "source": [
    "### Veh year i vehicle age\n",
    "Koristicemo vehicle age, tako da cemo veh year izbaciti\n",
    "Age mozemo da standardizujemo"
   ]
  },
  {
   "cell_type": "code",
   "execution_count": 10,
   "id": "6e5c3d59",
   "metadata": {},
   "outputs": [],
   "source": [
    "def drop_unwanted_columns(df):\n",
    "    # Definišemo kolone koje treba obrisati\n",
    "    columns_to_drop = [\n",
    "        'VehYear',\n",
    "        'Trim',\n",
    "        'Transmission',\n",
    "        'VNST','Auction',\n",
    "        'Color',\n",
    "        'MMRCurrentRetailAveragePrice',\n",
    "        'MMRCurrentAuctionAveragePrice',\n",
    "        'MMRCurrentRetailCleanPrice',\n",
    "        'MMRCurrentAuctionCleanPrice',\n",
    "        'VehOdo',\n",
    "        'WheelType',\n",
    "        'Nationality',\n",
    "        'TopThreeAmericanName',\n",
    "        'TrimCategory',\n",
    "        'Make','Model'\n",
    "        \n",
    "        \n",
    "        \n",
    "    ]\n",
    "    \n",
    "    # Brisanje kolona iz DataFrame-a\n",
    "    df.drop(columns=columns_to_drop, inplace=True)\n",
    "    \n",
    "    return df"
   ]
  },
  {
   "cell_type": "markdown",
   "id": "1c2dc79c",
   "metadata": {},
   "source": [
    "### Auction\n",
    "\n",
    "Primetili smo da postoji razlika ako je u pitanju Adesa(15% losih vozila) u odnosu na kategorije Manheim i Other (po 11%).\n",
    "Napravicemo boolean kolonu isAdesa.\n"
   ]
  },
  {
   "cell_type": "code",
   "execution_count": 11,
   "id": "6d53c06e",
   "metadata": {},
   "outputs": [],
   "source": [
    "def categorize_auction(df):\n",
    "\n",
    "    df['Adesa_Auction'] = df['Auction'].apply(lambda x: 1 if x == 'ADESA' else 0)\n",
    "    \n",
    "    \n",
    "    return df"
   ]
  },
  {
   "cell_type": "markdown",
   "id": "90a37e93",
   "metadata": {},
   "source": [
    "### Make - naziv proizvodjaca\n",
    "\n",
    "Napravicemo 10 dummy kolona za najcesce proizvodjace, ostali ce biti u other"
   ]
  },
  {
   "cell_type": "code",
   "execution_count": 12,
   "id": "8b60bee2",
   "metadata": {},
   "outputs": [],
   "source": [
    "def process_make(train, df):\n",
    "  \n",
    "    top_10_makes = train['Make'].value_counts().nlargest(10).index\n",
    "    df['Make'] = df['Make'].apply(lambda x: x if x in top_10_makes else 'other')\n",
    "    one_hot_encoded_df = pd.get_dummies(df['Make'], prefix='make')  \n",
    "    df = pd.concat([df, one_hot_encoded_df], axis=1)\n",
    "    \n",
    "    return  df"
   ]
  },
  {
   "cell_type": "markdown",
   "id": "1326f064",
   "metadata": {},
   "source": [
    "### Trim - paket opreme\n",
    "\n",
    "Zakljucak iz prethodne faze je bio da mozemo grupisati sve pakete opreme iz seta u nekoliko kategorija. Zatim cemo ih poredjati u tri nivoa - basic mid i upper i dodelicemo im vrednosti 0 1 i 2\n"
   ]
  },
  {
   "cell_type": "code",
   "execution_count": 13,
   "id": "932f6a62",
   "metadata": {},
   "outputs": [],
   "source": [
    "def categorize_trim(trim):\n",
    "    # Definišemo kategorije na osnovu trimova\n",
    "    basic_trims = {\"W/T\",\"Nor\",\"i\",\"Bas\",\"Cla\",\"1\",\"ES\", \"L\", \"S\", \"SE\", \"LX\", \"EX\", \"LE\", \"GLS\", \"DX\", \"XE\", \"GL\", \"SXT\", \"CX\", \"150\", \"ZX3\", \"ZX4\", \"ZX5\", \"XL\", \"LXi\", \"ZXW\", \"GXE\"}\n",
    "    mid_range_trims = {\"L30\",\"SLE\",\"SES\",\"LS\", \"LT\", \"SEL\", \"XLT\", \"XLS\", \"SLT\", \"CXL\", \"Adv\", \"Cus\", \"SV6\", \"CE\", \"Tou\", \"CXS\", \"GS\", \"STX\",\"2\"}\n",
    "    sport_trims = {\"SX\",\"s\",\"GT\", \"ST\", \"R/T\", \"GTS\", \"SS\", \"Spo\", \"GTP\", \"ZTS\", \"Z71\", \"ZX2\", \"SVT\", \"XRS\", \"FX4\"}\n",
    "    luxury_trims = {\"Lim\", \"Lar\", \"Lux\", \"LTZ\", \"Den\", \"GLS\", \"GTC\", \"L10\", \"L20\", \"Pro\", \"Max\", \"OZ\"}\n",
    "    special_trims = {\"Edg\",\"3\", \"Edd\", \"Z24\", \"Har\", \"LL\", \"JLX\", \"JLS\", \"Hyb\", \"Ent\", \"Ral\", \"ZR2\", \"Spe\", \"Ove\", \"RS\", \"Hig\", \"3 R\", \"Cin\", \"Exe\", \"Val\", \"Sta\", \"VP\", \"Pre\", \"Spy\", \"SC2\", \"SC1\", \"Spy\", \"XR\", \"eC\", \"Out\", \"Ult\", \"Maz\"}\n",
    "\n",
    "    # Podela u kategorije\n",
    "    if trim in basic_trims:\n",
    "        return 'Basic'\n",
    "    elif trim in mid_range_trims:\n",
    "        return 'Mid-Range'\n",
    "    elif trim in sport_trims:\n",
    "        return 'Sport'\n",
    "    elif trim in luxury_trims:\n",
    "        return 'Luxury'\n",
    "    elif trim in special_trims:\n",
    "        return 'Special'\n",
    "    else:\n",
    "        return 'Basic'"
   ]
  },
  {
   "cell_type": "code",
   "execution_count": 14,
   "id": "2bf42f81",
   "metadata": {},
   "outputs": [],
   "source": [
    "train['TrimCategory'] = train['Trim'].apply(categorize_trim)\n",
    "test['TrimCategory'] = test['Trim'].apply(categorize_trim)\n",
    "valid['TrimCategory'] = valid['Trim'].apply(categorize_trim)"
   ]
  },
  {
   "cell_type": "code",
   "execution_count": 15,
   "id": "c3c5da5f",
   "metadata": {},
   "outputs": [],
   "source": [
    "def encode_trim_category(df):\n",
    " \n",
    "    trim_map = {\n",
    "        'Basic': 0,\n",
    "        'Mid-Range': 1,\n",
    "        'Sport': 2,\n",
    "        'Luxury': 2,\n",
    "        'Special': 2\n",
    "    }\n",
    "    \n",
    "   \n",
    "    df['TrimCategory_Encoded'] = df['TrimCategory'].map(trim_map)\n",
    "    \n",
    "    return df"
   ]
  },
  {
   "cell_type": "markdown",
   "id": "2a8d912a",
   "metadata": {},
   "source": [
    "### Transmission \n",
    "veoma je neizbalansiran podatak i nema nikakve razlike po pitanju izlazne promenljive, te cemo ga izbaciti"
   ]
  },
  {
   "cell_type": "markdown",
   "id": "493c9c48",
   "metadata": {},
   "source": [
    "### Color\n",
    "\n",
    "Ne pravi nikakvu razliku, te cemo izbaciti "
   ]
  },
  {
   "cell_type": "markdown",
   "id": "ae9edf9b",
   "metadata": {},
   "source": [
    "### WheelType \n",
    "Imamo tri tipa - Alloy, Covers i Special. Napravicemo dve kolone, alloy i cover. Kombinacija 0 0 ce da oznaci da je tip special\n"
   ]
  },
  {
   "cell_type": "code",
   "execution_count": 16,
   "id": "fa55fd99",
   "metadata": {},
   "outputs": [],
   "source": [
    "def map_wheel_type(df):\n",
    "   \n",
    "    df['Alloy'] = df['WheelType'].apply(lambda x: 1 if x == 'Alloy' else 0)\n",
    "    df['Covers'] = df['WheelType'].apply(lambda x: 1 if x == 'Covers' else 0)\n",
    "    \n",
    "    return df"
   ]
  },
  {
   "cell_type": "markdown",
   "id": "f663293e",
   "metadata": {},
   "source": [
    "### Nationality\n",
    "\n",
    "Ovu kategoriju smo pretvorili u bool kolonu isAmerican"
   ]
  },
  {
   "cell_type": "code",
   "execution_count": 17,
   "id": "13cd5582",
   "metadata": {},
   "outputs": [],
   "source": [
    "def map_nationality(df):\n",
    "   \n",
    "    df['isAmerican'] = df['Nationality'].apply(lambda x: 1 if x == 'AMERICAN' else 0)\n",
    "        \n",
    "    return df"
   ]
  },
  {
   "cell_type": "markdown",
   "id": "6a1755a2",
   "metadata": {},
   "source": [
    "### TopThreeAmericanName\n",
    "\n",
    "Kako bismo izbegli veliku multikolinearnost, ovu kolonu cemo izbaciti. Proizvodjaci ce biti pokriveni kononama Make\n",
    "Vecina GM automobila je chevrolet, ford ce vec postojati kao i crysler\n"
   ]
  },
  {
   "cell_type": "markdown",
   "id": "7c5ed32a",
   "metadata": {},
   "source": [
    "### Size \n",
    "\n",
    "Poredjali smo po velicini vozila kategorije koje su nam date"
   ]
  },
  {
   "cell_type": "code",
   "execution_count": 18,
   "id": "c1cace2b",
   "metadata": {},
   "outputs": [],
   "source": [
    "size_class = {'COMPACT': 0, 'MEDIUM': 1, 'LARGE': 2, 'SPORTS': 3, 'SPECIALTY': 3, 'VAN': 4, 'SMALL SUV': 5,\n",
    "             'CROSSOVER': 5, 'MEDIUM SUV': 6, 'LARGE SUV': 7, 'SMALL TRUCK': 8, 'LARGE TRUCK': 9}"
   ]
  },
  {
   "cell_type": "code",
   "execution_count": 19,
   "id": "331d8851",
   "metadata": {},
   "outputs": [],
   "source": [
    "def encode_size_category(df):\n",
    " \n",
    "    size_class = {'COMPACT': 0, 'MEDIUM': 1, 'LARGE': 2, 'SPORTS': 3, 'SPECIALTY': 3, 'VAN': 4, 'SMALL SUV': 5,\n",
    "             'CROSSOVER': 5, 'MEDIUM SUV': 6, 'LARGE SUV': 7, 'SMALL TRUCK': 8, 'LARGE TRUCK': 9}\n",
    "    df['Size'] = df['Size'].map(size_class)\n",
    "    \n",
    "    return df"
   ]
  },
  {
   "cell_type": "markdown",
   "id": "33ffc50f",
   "metadata": {},
   "source": [
    "### MMR indeksi\n",
    "\n",
    "\n",
    "Current indekse cemo da izbacimo, iz vise razloga, poput sta ako se pojavi model automobila koji nije postojao u vreme kreiranja seta, necemo moci u buducnosti da imamo taj podatak.\n",
    "\n",
    "Ostali indeksi su izrazito korelisani, te cemo za svaki automobil racunati prosek 4 mmr indeksa, a potom cemo taj prosek standardzivati"
   ]
  },
  {
   "cell_type": "code",
   "execution_count": 20,
   "id": "eae58d9b",
   "metadata": {},
   "outputs": [],
   "source": [
    "def mmr_average(df):\n",
    "    \n",
    "    df['MMRAverage'] = (df['MMRAcquisitionAuctionCleanPrice'] + df['MMRAcquisitonRetailCleanPrice'] +\n",
    "                        df['MMRAcquisitionAuctionAveragePrice'] + df['MMRAcquisitionRetailAveragePrice']) / 4\n",
    "    \n",
    "    \n",
    "    df.drop(columns=['MMRAcquisitionAuctionAveragePrice', 'MMRAcquisitonRetailCleanPrice', \n",
    "                     'MMRAcquisitionAuctionCleanPrice', 'MMRAcquisitionRetailAveragePrice'], inplace=True)\n",
    "    \n",
    "    return df\n"
   ]
  },
  {
   "cell_type": "markdown",
   "id": "31856132",
   "metadata": {},
   "source": [
    "### VehBCost i WarrantyCost\n",
    "\n",
    "Ovu vrednost cemo standardizovati, koristeci brojeve sa train seta, na sve setove"
   ]
  },
  {
   "cell_type": "code",
   "execution_count": 21,
   "id": "c5723019",
   "metadata": {},
   "outputs": [],
   "source": [
    "def standardize(train, test, valid, columns):\n",
    "    for column_name in columns:\n",
    "        train, test, valid = scale_column(train, test, valid, column_name)\n",
    "    return train, test, valid"
   ]
  },
  {
   "cell_type": "code",
   "execution_count": 22,
   "id": "375dfa0d",
   "metadata": {},
   "outputs": [],
   "source": [
    "columns_to_scale = ['VehBCost', 'WarrantyCost','MMRAverage','CostPerYear','WarrantyPerMile','CostPerMile']  \n"
   ]
  },
  {
   "cell_type": "code",
   "execution_count": 23,
   "id": "18450da2",
   "metadata": {},
   "outputs": [],
   "source": [
    "def process_dataset(train, df):\n",
    "    \n",
    "    \n",
    "    df = cost_miles_cols(df)\n",
    "\n",
    "    df = standardize_vehodo(train, df)\n",
    "    \n",
    "\n",
    "    df = categorize_auction(df)\n",
    "    \n",
    "\n",
    "    df = process_make(train, df)\n",
    "    \n",
    "\n",
    "    df = encode_trim_category(df)\n",
    "    \n",
    " \n",
    "    df = map_wheel_type(df)\n",
    "\n",
    "    df = map_nationality(df)\n",
    "    \n",
    "\n",
    "    df = mmr_average(df)\n",
    "    \n",
    "\n",
    "    df = encode_size_category(df)\n",
    "    \n",
    "\n",
    "    df = drop_unwanted_columns(df)\n",
    "    \n",
    "    \n",
    "    return df"
   ]
  },
  {
   "cell_type": "code",
   "execution_count": 25,
   "id": "ef8789cf",
   "metadata": {},
   "outputs": [],
   "source": [
    "def cost_miles_cols(df):\n",
    "    df['CostPerMile'] = df['VehBCost'] / df['VehOdo'] # std\n",
    "    \n",
    "    df['WarrantyPerMile'] = df['WarrantyCost'] / df['VehOdo']\n",
    " \n",
    "    df['Age_help'] = df['VehicleAge'] + 1\n",
    "    df['CostPerYear'] = df['VehBCost'] / df['Age_help'] ## mora std\n",
    "    df.drop(columns='Age_help',inplace=True)\n",
    "    return df"
   ]
  },
  {
   "cell_type": "code",
   "execution_count": 26,
   "id": "165f1e73",
   "metadata": {},
   "outputs": [
    {
     "data": {
      "text/plain": [
       "Index(['IsBadBuy', 'Auction', 'VehYear', 'VehicleAge', 'Make', 'Model', 'Trim',\n",
       "       'Color', 'Transmission', 'WheelType', 'VehOdo', 'Nationality', 'Size',\n",
       "       'TopThreeAmericanName', 'MMRAcquisitionAuctionAveragePrice',\n",
       "       'MMRAcquisitionAuctionCleanPrice', 'MMRAcquisitionRetailAveragePrice',\n",
       "       'MMRAcquisitonRetailCleanPrice', 'MMRCurrentAuctionAveragePrice',\n",
       "       'MMRCurrentAuctionCleanPrice', 'MMRCurrentRetailAveragePrice',\n",
       "       'MMRCurrentRetailCleanPrice', 'VNST', 'VehBCost', 'WarrantyCost',\n",
       "       'TrimCategory'],\n",
       "      dtype='object')"
      ]
     },
     "execution_count": 26,
     "metadata": {},
     "output_type": "execute_result"
    }
   ],
   "source": [
    "test.columns"
   ]
  },
  {
   "cell_type": "code",
   "execution_count": 27,
   "id": "84458907",
   "metadata": {},
   "outputs": [],
   "source": [
    "\n",
    "valid = process_dataset(train, valid)\n",
    "\n",
    "test = process_dataset(train,test)\n",
    "\n",
    "train = process_dataset(train,train)\n",
    "\n",
    "train,test,valid = standardize(train,test,valid,columns_to_scale)"
   ]
  },
  {
   "cell_type": "code",
   "execution_count": 28,
   "id": "9b3d1db2",
   "metadata": {},
   "outputs": [
    {
     "name": "stdout",
     "output_type": "stream",
     "text": [
      "0\n"
     ]
    }
   ],
   "source": [
    "print(valid.isnull().sum().sum())"
   ]
  },
  {
   "cell_type": "code",
   "execution_count": 29,
   "id": "8eacb4c0",
   "metadata": {},
   "outputs": [
    {
     "data": {
      "text/plain": [
       "(51088, 26)"
      ]
     },
     "execution_count": 29,
     "metadata": {},
     "output_type": "execute_result"
    }
   ],
   "source": [
    "train.shape"
   ]
  },
  {
   "cell_type": "markdown",
   "id": "426310f3",
   "metadata": {},
   "source": [
    "def process_dataset_cat(train, df):\n",
    "    # Standardizacija kolone 'VehOdo'\n",
    "    df = standardize_vehodo(train, df)\n",
    "    \n",
    "    # Kategorizacija aukcije\n",
    "    df = categorize_auction(df)\n",
    "    \n",
    "    # Procesiranje proizvođača automobila\n",
    "    df = process_make(train, df)\n",
    "    \n",
    "    # Enkodiranje trim kategorije\n",
    "    df = encode_trim_category(df)\n",
    "    \n",
    "    # Mapiranje tipa točkova\n",
    "    df = map_wheel_type(df)\n",
    "    \n",
    "    # Mapiranje nacionalnosti\n",
    "    df = map_nationality(df)\n",
    "    \n",
    "    # Prosečna MMR vrednost\n",
    "    df = mmr_average(df)\n",
    "    \n",
    "    # Enkodiranje kategorije veličine\n",
    "    df = encode_size_category(df)\n",
    "    \n",
    "    # Brisanje nepotrebnih kolona\n",
    "    df = drop_unwanted_columns(df)\n",
    "    \n",
    "    return df"
   ]
  },
  {
   "cell_type": "markdown",
   "id": "9273f6a7",
   "metadata": {},
   "source": [
    "train_cat = pd.read_csv('train_bezNA.csv')\n",
    "test_cat = pd.read_csv('test_bezNA.csv')\n",
    "valid_cat = pd.read_csv('valid_bezNA.csv')"
   ]
  },
  {
   "cell_type": "markdown",
   "id": "676d4a67",
   "metadata": {},
   "source": [
    "train_cat['TrimCategory'] = train_cat['Trim'].apply(categorize_trim)\n",
    "test_cat['TrimCategory'] = test_cat['Trim'].apply(categorize_trim)\n",
    "valid_cat['TrimCategory'] = valid_cat['Trim'].apply(categorize_trim)"
   ]
  },
  {
   "cell_type": "markdown",
   "id": "8f2dbe47",
   "metadata": {},
   "source": [
    "train_cat =process_dataset_cat(train_cat,train_cat)"
   ]
  },
  {
   "cell_type": "markdown",
   "id": "fdf26d19",
   "metadata": {},
   "source": [
    "test_cat=process_dataset_cat(train_cat,test_cat)\n",
    "valid_cat=process_dataset_cat(train_cat,valid_cat)\n",
    "\n"
   ]
  },
  {
   "cell_type": "markdown",
   "id": "f4d237ef",
   "metadata": {},
   "source": [
    "columns_to_scale"
   ]
  },
  {
   "cell_type": "markdown",
   "id": "da2db001",
   "metadata": {},
   "source": [
    "train_cat,test_cat,valid_cat = standardize(train_cat,test_cat,valid_cat,columns_to_scale)"
   ]
  },
  {
   "cell_type": "markdown",
   "id": "cf3b569c",
   "metadata": {},
   "source": [
    "train_cat"
   ]
  },
  {
   "cell_type": "markdown",
   "id": "bbeadf22",
   "metadata": {},
   "source": [
    "train_cat.to_csv('train_cat.csv',index=False)\n",
    "test_cat.to_csv('test_cat.csv',index=False)\n",
    "valid_cat.to_csv('valid_cat.csv',index=False)"
   ]
  },
  {
   "cell_type": "code",
   "execution_count": 30,
   "id": "68a75a29",
   "metadata": {},
   "outputs": [],
   "source": [
    "train.to_csv('train_processed.csv',index=False)\n",
    "valid.to_csv('valid_processed.csv',index=False)\n",
    "test.to_csv('test_processed.csv',index=False)\n"
   ]
  },
  {
   "cell_type": "code",
   "execution_count": 33,
   "id": "213aa654",
   "metadata": {},
   "outputs": [
    {
     "data": {
      "text/plain": [
       "72983"
      ]
     },
     "execution_count": 33,
     "metadata": {},
     "output_type": "execute_result"
    }
   ],
   "source": [
    "train.shape[0] + test.shape[0] + valid.shape[0]"
   ]
  }
 ],
 "metadata": {
  "kernelspec": {
   "display_name": "Python 3 (ipykernel)",
   "language": "python",
   "name": "python3"
  },
  "language_info": {
   "codemirror_mode": {
    "name": "ipython",
    "version": 3
   },
   "file_extension": ".py",
   "mimetype": "text/x-python",
   "name": "python",
   "nbconvert_exporter": "python",
   "pygments_lexer": "ipython3",
   "version": "3.11.5"
  }
 },
 "nbformat": 4,
 "nbformat_minor": 5
}
